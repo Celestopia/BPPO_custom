{
 "cells": [
  {
   "cell_type": "code",
   "execution_count": 1,
   "metadata": {},
   "outputs": [
    {
     "name": "stderr",
     "output_type": "stream",
     "text": [
      "100%|██████████| 100/100 [00:00<00:00, 581.09it/s]\n"
     ]
    }
   ],
   "source": [
    "import numpy as np\n",
    "import pickle\n",
    "import tqdm\n",
    "\n",
    "def burgers(y, u, delta_x, nu=0.01):\n",
    "    \"\"\"\n",
    "    Return the change rate of state vector, given the current state y and control signal u, following 1D Burgers' equation.\n",
    "\n",
    "    :param y: (n,), state vector.\n",
    "    :param u: (m,), control signal.\n",
    "    :param delta_x: a small spatial length, used as dx in the numerical solution of differential equation.\n",
    "    :param nu: Kinematic viscosity.\n",
    "\n",
    "    :return: (n,), change rate of state vector\n",
    "    \"\"\"\n",
    "    assert type(y) == np.ndarray and type(u) == np.ndarray, \"y and u must be numpy arrays\"\n",
    "    assert y.ndim == 1 and u.ndim == 1, \"y and u must be 1 dimensional arrays\"\n",
    "    assert y.shape == u.shape, \"y and u must have the same shape\"\n",
    "    \n",
    "    y_b = np.roll(y, -1)\n",
    "    y_b[-1] = y[-1]\n",
    "    y_a = np.roll(y, 1)\n",
    "    y_a[0] = y[0]\n",
    "    dydt = -y * (y_b - y_a) / (2 * delta_x) + nu * (y_b - 2 * y + y_a) / delta_x**2\n",
    "    return dydt + u  # Adding control influence to the state evolution\n",
    "\n",
    "def generate_initial_u(x):\n",
    "    \"\"\"\n",
    "    Generate the initial state u(0, x) as a superposition of two Gaussian functions.\n",
    "    \"\"\"\n",
    "    # Sampling parameters for the Gaussian functions\n",
    "    a1 = np.random.uniform(0, 2)\n",
    "    a2 = np.random.uniform(-2, 0)\n",
    "    b1 = np.random.uniform(0.2, 0.4)\n",
    "    b2 = np.random.uniform(0.6, 0.8)\n",
    "    sigma1 = np.random.uniform(0.05, 0.15)\n",
    "    sigma2 = np.random.uniform(0.05, 0.15)\n",
    "    \n",
    "    u = a1 * np.exp(-((x - b1)**2) / (2 * sigma1**2)) + a2 * np.exp(-((x - b2)**2) / (2 * sigma2**2))\n",
    "    u[0] = 0\n",
    "    u[-1] = 0\n",
    "    return u\n",
    "\n",
    "def generate_control_sequence(x, t):\n",
    "    \"\"\"\n",
    "    Generate control sequence w(t, x) as a superposition of 8 Gaussian functions.\n",
    "    \"\"\"\n",
    "    w = np.zeros_like(x)\n",
    "    for i in range(8):\n",
    "        ind = np.random.binomial(1, 0.5)\n",
    "        if i==0:\n",
    "            ai = np.random.uniform(-1.5,1.5)\n",
    "        else:\n",
    "            if ind:\n",
    "                ai = np.random.uniform(-1.5,1.5)\n",
    "            else:\n",
    "                ai = 0\n",
    "        b1_i = np.random.uniform(0, 1)\n",
    "        b2_i = np.random.uniform(0, 1)\n",
    "        sigma1_i = np.random.uniform(0.05, 0.2)\n",
    "        sigma2_i = np.random.uniform(0.05, 0.2)\n",
    "        \n",
    "        w += ai * np.exp(-((x - b1_i)**2) / (2 * sigma1_i**2)) * np.exp(-((t - b2_i)**2) / (2 * sigma2_i**2))\n",
    "    \n",
    "    return w\n",
    "\n",
    "if __name__ == '__main__':\n",
    "    # Set general parameters\n",
    "    n = 128 # Number of spatial nodes (grid points)\n",
    "    T = 8 # Number of time steps stored (from 10000 time steps, we store only 10)\n",
    "    T_sim = 800\n",
    "    N = 100 # Number of samples (trajectories)\n",
    "    nu=0.01  # Kinematic viscosity\n",
    "\n",
    "    # Spatial grid from 0 to 1, discretized into n points\n",
    "    x_range=(-5,5)\n",
    "    x = np.linspace(*x_range, n)\n",
    "    dx=(x_range[1]-x_range[0])/n\n",
    "    \n",
    "    Y_bar = []  # Holds states from y_0 to y_{T-1}\n",
    "    Y_f = []    # Holds final state y_T\n",
    "    U = []      # Holds control sequence u_0 to u_{T-1}\n",
    "    \n",
    "    # Simulate the system for N samples\n",
    "    for _ in tqdm.tqdm(range(N)):\n",
    "        # Sample initial state u(0, x)\n",
    "        u = generate_initial_u(x)\n",
    "        \n",
    "        # Sample control sequence w(t, x) at 10 time steps\n",
    "        w = []\n",
    "        for t_idx in range(T):\n",
    "            t = t_idx * 0.1  # Time stamps are from 0.0 to 0.9 in steps of 0.1\n",
    "            w_t = generate_control_sequence(x, t)\n",
    "            w.append(w_t)\n",
    "        \n",
    "        # Initialize lists to store the state trajectory\n",
    "        y = [u]  # Starting state\n",
    "        \n",
    "        # Generate the state trajectory using the Burger equation\n",
    "        delta_t = 1  # Time step size for sampling\n",
    "        delta_t_sim = T_sim / T  # Time step size for simulation\n",
    "        for t_idx in range(1, T):\n",
    "            u_prev = y[-1]  # Previous state is the last element in the list\n",
    "            u_current = burgers(u_prev, w[t_idx-1], delta_x=dx, nu=nu)\n",
    "            y.append(u_current)\n",
    "            # print(u_current.max())\n",
    "        \n",
    "        # Store the data\n",
    "        Y_bar.append(np.stack(y[:-1]))  # Y_bar contains states from y_0 to y_{T-1}\n",
    "        Y_f.append(y[-1])               # Y_f contains the final state y_T\n",
    "        U.append(np.stack(w[:-1]))           # U contains control sequence w_0 to w_{T-1}\n",
    "    \n",
    "    # Save the generated data into a dictionary\n",
    "    data_name = f'burger_{n}_{n}_{T-1}_{N}_{delta_t}.pkl'\n",
    "    data_dict = {}\n",
    "    data_dict['sys'] = {\"C\": np.identity(n)}  # Assuming the system matrix C is identity\n",
    "    data_dict['meta_data'] = {\n",
    "        'num_nodes': n, \n",
    "        'input_dim': n, \n",
    "        'control_horizon': T - 1, \n",
    "        'num_samples': N\n",
    "    }\n",
    "    \n",
    "    # Store the generated data\n",
    "    data_dict['data'] = {'Y_bar': np.array(Y_bar), 'Y_f': np.array(Y_f), 'U': np.flip(np.array(U), axis=1)}"
   ]
  },
  {
   "cell_type": "code",
   "execution_count": 2,
   "metadata": {},
   "outputs": [
    {
     "name": "stdout",
     "output_type": "stream",
     "text": [
      "(100, 7, 128)\n",
      "(100, 128)\n",
      "(100, 7, 128)\n"
     ]
    }
   ],
   "source": [
    "print(data_dict['data']['Y_bar'].shape)\n",
    "print(data_dict['data']['Y_f'].shape)\n",
    "print(data_dict['data']['U'].shape)"
   ]
  },
  {
   "cell_type": "code",
   "execution_count": 10,
   "metadata": {},
   "outputs": [
    {
     "data": {
      "text/plain": [
       "[<matplotlib.lines.Line2D at 0x2d093ffe9f0>]"
      ]
     },
     "execution_count": 10,
     "metadata": {},
     "output_type": "execute_result"
    },
    {
     "data": {
      "image/png": "[encoded data removed]",
      "text/plain": [
       "<Figure size 640x480 with 1 Axes>"
      ]
     },
     "metadata": {},
     "output_type": "display_data"
    }
   ],
   "source": [
    "import matplotlib.pyplot as plt\n",
    "plt.plot(data_dict['data']['Y_bar'][0][2])"
   ]
  }
 ],
 "metadata": {
  "kernelspec": {
   "display_name": "env_py312",
   "language": "python",
   "name": "python3"
  },
  "language_info": {
   "codemirror_mode": {
    "name": "ipython",
    "version": 3
   },
   "file_extension": ".py",
   "mimetype": "text/x-python",
   "name": "python",
   "nbconvert_exporter": "python",
   "pygments_lexer": "ipython3",
   "version": "3.12.5"
  }
 },
 "nbformat": 4,
 "nbformat_minor": 2
}
