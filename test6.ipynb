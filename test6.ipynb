{
 "cells": [
  {
   "cell_type": "code",
   "execution_count": 1,
   "metadata": {},
   "outputs": [],
   "source": [
    "import numpy as np\n",
    "import torch\n",
    "import matplotlib.pyplot as plt\n",
    "import tqdm\n",
    "import os\n",
    "import time\n",
    "from tensorboardX import SummaryWriter\n",
    "\n",
    "#from envs.burgers import Burgers\n",
    "from buffer import OfflineReplayBuffer\n",
    "from critic import ValueLearner, QPiLearner, QSarsaLearner\n",
    "from bppo import BehaviorCloning, BehaviorProximalPolicyOptimization"
   ]
  },
  {
   "cell_type": "code",
   "execution_count": 2,
   "metadata": {},
   "outputs": [],
   "source": [
    "# Hyperparameters\n",
    "\n",
    "# Experiment\n",
    "env_name='burger'\n",
    "path='logs'\n",
    "log_freq=int(100)\n",
    "seed=20241219\n",
    "torch.manual_seed(seed)\n",
    "torch.cuda.manual_seed(seed)\n",
    "np.random.seed(seed)\n",
    "N=100 # Number of trajectories to collect for offline dataset\n",
    "\n",
    "# For Value\n",
    "v_steps=int(5000)\n",
    "v_hidden_dim = 256\n",
    "v_depth = 3\n",
    "v_lr = 1e-6\n",
    "v_batch_size = 64\n",
    "\n",
    "# For Q\n",
    "q_bc_steps=int(5000)\n",
    "q_pi_steps=10 # Number of steps to update Q-network in each iteration. Only used if is_offpolicy_update=True.\n",
    "q_hidden_dim = 256\n",
    "q_depth = 3\n",
    "q_lr = 1e-6\n",
    "q_batch_size = 64\n",
    "target_update_freq=2\n",
    "tau=0.005 # Soft update rate for target Q network parameters. See Q_learner.update()\n",
    "gamma=0.99 # Discount factor for calculating the return.\n",
    "is_offpolicy_update=False # Whether to use advantage replacement (as proposed in the BPPO paper) in Q-learning.\n",
    "# If False, use Q-learning to update the Q-network parameters in each iteration.\n",
    "# If True, only update the Q-network parameters once, and keep using this Q-network.\n",
    "\n",
    "# For BC\n",
    "bc_steps=int(500)\n",
    "bc_lr = 1e-4\n",
    "bc_hidden_dim = 256\n",
    "bc_depth = 3\n",
    "bc_batch_size = 64\n",
    "\n",
    "# For BPPO\n",
    "bppo_steps=int(100)\n",
    "bppo_hidden_dim = 256\n",
    "bppo_depth = 3\n",
    "bppo_lr = 1e-4\n",
    "bppo_batch_size = 64\n",
    "clip_ratio=0.25 # PPO clip ratio. The probability ratio between new and old policy is clipped to be in the range [1-clip_ratio, 1+clip_ratio]\n",
    "entropy_weight=0.00 # Weight of entropy loss in PPO and BPPO. Can be set to 0.01 for medium tasks.\n",
    "decay=0.96 # Decay rate of PPO clip ratio\n",
    "omega=0.9 # Related to setting the weight of advantage (see PPO code)\n",
    "is_clip_decay=True # Whether to decay the clip_ratio during training\n",
    "is_bppo_lr_decay=True # Whether to decay the learning rate of BPPO during trainining\n",
    "is_update_old_policy=True # Whether to update the old policy of BPPO in each iteration. The old policy is used to calculate the probability ratio.\n",
    "is_state_norm=False # Whether to normalize the states of the dataset.\n",
    "\n",
    "# Other Settings\n",
    "#device = torch.device('cuda' if torch.cuda.is_available() else 'cpu')\n",
    "device=torch.device('cpu')\n",
    "state_dim = 128\n",
    "action_dim = 128\n",
    "x_range=(-5,5)\n",
    "\n"
   ]
  },
  {
   "cell_type": "code",
   "execution_count": 3,
   "metadata": {},
   "outputs": [],
   "source": [
    "#env=Burgers(\n",
    "#    n=state_dim,\n",
    "#    m=action_dim,\n",
    "#    T=8,\n",
    "#    x_range=[-1,1],\n",
    "#    energy_penalty=0.01,\n",
    "#    device='cpu'\n",
    "#)"
   ]
  },
  {
   "cell_type": "code",
   "execution_count": 3,
   "metadata": {},
   "outputs": [
    {
     "name": "stderr",
     "output_type": "stream",
     "text": [
      "Generating samples: 100%|██████████| 1/1 [00:00<00:00,  5.73it/s]\n",
      "Setting terminal flags: 100%|██████████| 1/1 [00:00<00:00, 392.69it/s]\n",
      "Setting rewards: 100%|██████████| 1/1 [00:00<00:00, 996.98it/s]"
     ]
    },
    {
     "name": "stdout",
     "output_type": "stream",
     "text": [
      "Y_bar shape:  (1, 500, 128)\n",
      "Y_f shape:  (1, 128)\n",
      "U shape:  (1, 500, 128)\n",
      "Terminals shape:  (1, 500)\n",
      "Timeouts shape:  (1, 500)\n",
      "Rewards shape:  (1, 500)\n",
      "(500, 128)\n",
      "(500, 128)\n",
      "(500,)\n",
      "(500,)\n",
      "(500,)\n"
     ]
    },
    {
     "name": "stderr",
     "output_type": "stream",
     "text": [
      "\n"
     ]
    }
   ],
   "source": [
    "from generate_burgers import load_burgers\n",
    "\n",
    "dataset = load_burgers(\n",
    "                x_range=x_range,\n",
    "                nt = 500, # Number of time steps\n",
    "                nx = state_dim, # Number of spatial nodes (grid points)\n",
    "                dt= 0.001, # Temporal interval\n",
    "                N = 1, # Number of samples (trajectories) to generate\n",
    "                visualize=False # Whether to show the animation of state trajectory evolution\n",
    "                )\n",
    "\n",
    "for key in dataset.keys():\n",
    "    if key!=\"meta_data\":\n",
    "        dataset[key]=dataset[key].squeeze(0)\n",
    "\n",
    "print(dataset['observations'].shape)\n",
    "print(dataset['actions'].shape)\n",
    "print(dataset['rewards'].shape)\n",
    "print(dataset['terminals'].shape)\n",
    "print(dataset['timeouts'].shape)"
   ]
  },
  {
   "cell_type": "code",
   "execution_count": 4,
   "metadata": {},
   "outputs": [
    {
     "name": "stderr",
     "output_type": "stream",
     "text": [
      "Computing the returns: 499it [00:00, 208358.16it/s]\n"
     ]
    }
   ],
   "source": [
    "replay_buffer = OfflineReplayBuffer(device, state_dim, action_dim, len(dataset['actions']))\n",
    "replay_buffer.load_dataset(dataset=dataset)\n",
    "replay_buffer.compute_return(gamma) # Compute the discounted return for the trajectory, with a discount factor of gamma (default 0.99)."
   ]
  },
  {
   "cell_type": "code",
   "execution_count": 5,
   "metadata": {},
   "outputs": [
    {
     "name": "stdout",
     "output_type": "stream",
     "text": [
      "Made log directory at logs\\20241219\\2024_12_22__09_18_41\n"
     ]
    }
   ],
   "source": [
    "# summarywriter logger\n",
    "# path\n",
    "\n",
    "current_time = time.strftime(\"%Y_%m_%d__%H_%M_%S\", time.localtime())\n",
    "path = os.path.join(path, str(seed))\n",
    "os.makedirs(os.path.join(path, current_time))\n",
    "print(f'Made log directory at {os.path.join(path, current_time)}')\n",
    "\n",
    "logger_path = os.path.join(path, current_time)\n",
    "logger = SummaryWriter(log_dir=logger_path, comment='')"
   ]
  },
  {
   "cell_type": "code",
   "execution_count": 14,
   "metadata": {},
   "outputs": [],
   "source": [
    "# initilize\n",
    "value = ValueLearner(device=device,\n",
    "                        state_dim=state_dim,\n",
    "                        hidden_dim=v_hidden_dim,\n",
    "                        depth=v_depth,\n",
    "                        value_lr=v_lr,\n",
    "                        batch_size=v_batch_size)\n",
    "\n",
    "Q_bc = QSarsaLearner(device=device,\n",
    "                        state_dim=state_dim,\n",
    "                        action_dim=action_dim,\n",
    "                        hidden_dim=q_hidden_dim, depth=q_depth,\n",
    "                        Q_lr=q_lr,\n",
    "                        target_update_freq=target_update_freq,\n",
    "                        tau=tau,\n",
    "                        gamma=gamma,\n",
    "                        batch_size=q_batch_size)\n",
    "if is_offpolicy_update: \n",
    "    Q_pi=QPiLearner(device=device,\n",
    "                        state_dim=state_dim,\n",
    "                        action_dim=action_dim,\n",
    "                        hidden_dim=q_hidden_dim,\n",
    "                        depth=q_depth,\n",
    "                        Q_lr=q_lr,\n",
    "                        target_update_freq=target_update_freq,\n",
    "                        tau=tau,\n",
    "                        gamma=gamma,\n",
    "                        batch_size=q_batch_size)\n",
    "bc=BehaviorCloning(device=device,\n",
    "                        state_dim=state_dim,\n",
    "                        hidden_dim=bc_hidden_dim,\n",
    "                        depth=bc_depth,\n",
    "                        action_dim=action_dim,\n",
    "                        policy_lr=bc_lr,\n",
    "                        batch_size=bc_batch_size)\n",
    "bppo=BehaviorProximalPolicyOptimization(device=device,\n",
    "                        state_dim=state_dim,\n",
    "                        hidden_dim=bppo_hidden_dim,\n",
    "                        depth=bppo_depth,\n",
    "                        action_dim=action_dim,\n",
    "                        policy_lr=bppo_lr,\n",
    "                        clip_ratio=clip_ratio,\n",
    "                        entropy_weight=entropy_weight,\n",
    "                        decay=decay,\n",
    "                        omega=omega,\n",
    "                        batch_size=bppo_batch_size)"
   ]
  },
  {
   "cell_type": "code",
   "execution_count": 40,
   "metadata": {},
   "outputs": [],
   "source": [
    "import torch\n",
    "import torch.nn as nn\n",
    "import torch.optim as optim\n",
    "\n",
    "class ValueLearner(nn.Module):\n",
    "    def __init__(\n",
    "        self, \n",
    "        device: torch.device, \n",
    "        state_dim: int, \n",
    "        hidden_dim: int, \n",
    "        depth: int, \n",
    "    ) -> None:\n",
    "        super().__init__()\n",
    "        self._device = device\n",
    "\n",
    "\n",
    "        '''\n",
    "        layers = [nn.Linear(state_dim, hidden_dim), nn.ReLU()]\n",
    "        for _ in range(depth -1):\n",
    "            layers.append(nn.Linear(hidden_dim, hidden_dim))\n",
    "            layers.append(nn.ReLU())\n",
    "        layers.append(nn.Linear(hidden_dim, 1))\n",
    "        #layers.append(nn.ReLU())\n",
    "    \n",
    "        self.net = nn.Sequential(*layers).to(device)\n",
    "        '''\n",
    "        self.layer1=nn.Linear(state_dim,hidden_dim).to(device)\n",
    "        self.relu1=nn.ReLU().to(device)\n",
    "        self.layer2=nn.Linear(hidden_dim,1).to(device)\n",
    "        self.relu2=nn.ReLU().to(device)\n",
    "        \n",
    "\n",
    "    def forward(self,\n",
    "        s: torch.Tensor\n",
    "    ) -> torch.Tensor:\n",
    "        s = self.layer1(s)\n",
    "        s = self.relu1(s)\n",
    "        s = self.layer2(s)\n",
    "        s = self.relu2(s)\n",
    "        return s\n",
    "\n",
    "\n",
    "    def save(\n",
    "        self, path: str\n",
    "    ) -> None:\n",
    "        torch.save(self.net.state_dict(), path)\n",
    "        print('Value parameters saved in {}'.format(path))\n",
    "\n",
    "\n",
    "    def load(\n",
    "        self, path: str\n",
    "    ) -> None:\n",
    "        self.net.load_state_dict(torch.load(path, map_location=self._device))\n",
    "        print('Value parameters loaded')\n",
    "\n",
    "value_learner = ValueLearner(device='cpu',\n",
    "                        state_dim=state_dim,\n",
    "                        hidden_dim=v_hidden_dim,\n",
    "                        depth=v_depth,)"
   ]
  },
  {
   "cell_type": "code",
   "execution_count": 39,
   "metadata": {},
   "outputs": [
    {
     "name": "stderr",
     "output_type": "stream",
     "text": [
      "value updating ......:   1%|          | 54/5000 [00:00<00:18, 265.63it/s]"
     ]
    },
    {
     "name": "stdout",
     "output_type": "stream",
     "text": [
      "Step: 0, Loss: 611.8718\n"
     ]
    },
    {
     "name": "stderr",
     "output_type": "stream",
     "text": [
      "value updating ......:   3%|▎         | 138/5000 [00:00<00:18, 266.70it/s]"
     ]
    },
    {
     "name": "stdout",
     "output_type": "stream",
     "text": [
      "Step: 100, Loss: 627.7278\n"
     ]
    },
    {
     "name": "stderr",
     "output_type": "stream",
     "text": [
      "value updating ......:   5%|▌         | 255/5000 [00:00<00:17, 267.30it/s]"
     ]
    },
    {
     "name": "stdout",
     "output_type": "stream",
     "text": [
      "Step: 200, Loss: 681.9622\n"
     ]
    },
    {
     "name": "stderr",
     "output_type": "stream",
     "text": [
      "value updating ......:   7%|▋         | 337/5000 [00:01<00:17, 263.04it/s]"
     ]
    },
    {
     "name": "stdout",
     "output_type": "stream",
     "text": [
      "Step: 300, Loss: 663.4417\n"
     ]
    },
    {
     "name": "stderr",
     "output_type": "stream",
     "text": [
      "value updating ......:   9%|▉         | 448/5000 [00:01<00:17, 264.21it/s]"
     ]
    },
    {
     "name": "stdout",
     "output_type": "stream",
     "text": [
      "Step: 400, Loss: 729.2269\n"
     ]
    },
    {
     "name": "stderr",
     "output_type": "stream",
     "text": [
      "value updating ......:  11%|█         | 528/5000 [00:02<00:18, 245.54it/s]"
     ]
    },
    {
     "name": "stdout",
     "output_type": "stream",
     "text": [
      "Step: 500, Loss: 456.2892\n"
     ]
    },
    {
     "name": "stderr",
     "output_type": "stream",
     "text": [
      "value updating ......:  13%|█▎        | 638/5000 [00:02<00:16, 265.34it/s]"
     ]
    },
    {
     "name": "stdout",
     "output_type": "stream",
     "text": [
      "Step: 600, Loss: 589.1162\n"
     ]
    },
    {
     "name": "stderr",
     "output_type": "stream",
     "text": [
      "value updating ......:  15%|█▍        | 746/5000 [00:02<00:16, 258.29it/s]"
     ]
    },
    {
     "name": "stdout",
     "output_type": "stream",
     "text": [
      "Step: 700, Loss: 493.3994\n"
     ]
    },
    {
     "name": "stderr",
     "output_type": "stream",
     "text": [
      "value updating ......:  17%|█▋        | 835/5000 [00:03<00:16, 253.49it/s]"
     ]
    },
    {
     "name": "stdout",
     "output_type": "stream",
     "text": [
      "Step: 800, Loss: 692.4723\n"
     ]
    },
    {
     "name": "stderr",
     "output_type": "stream",
     "text": [
      "value updating ......:  19%|█▉        | 948/5000 [00:03<00:15, 263.59it/s]"
     ]
    },
    {
     "name": "stdout",
     "output_type": "stream",
     "text": [
      "Step: 900, Loss: 621.7665\n"
     ]
    },
    {
     "name": "stderr",
     "output_type": "stream",
     "text": [
      "value updating ......:  21%|██▏       | 1064/5000 [00:04<00:13, 282.71it/s]"
     ]
    },
    {
     "name": "stdout",
     "output_type": "stream",
     "text": [
      "Step: 1000, Loss: 542.8847\n"
     ]
    },
    {
     "name": "stderr",
     "output_type": "stream",
     "text": [
      "value updating ......:  23%|██▎       | 1149/5000 [00:04<00:14, 261.96it/s]"
     ]
    },
    {
     "name": "stdout",
     "output_type": "stream",
     "text": [
      "Step: 1100, Loss: 610.6831\n"
     ]
    },
    {
     "name": "stderr",
     "output_type": "stream",
     "text": [
      "value updating ......:  23%|██▎       | 1162/5000 [00:04<00:14, 259.38it/s]\n"
     ]
    },
    {
     "ename": "KeyboardInterrupt",
     "evalue": "",
     "output_type": "error",
     "traceback": [
      "\u001b[1;31m---------------------------------------------------------------------------\u001b[0m",
      "\u001b[1;31mKeyboardInterrupt\u001b[0m                         Traceback (most recent call last)",
      "Cell \u001b[1;32mIn[41], line 12\u001b[0m\n\u001b[0;32m     10\u001b[0m s, _, _, _, _, _, Return, _ \u001b[38;5;241m=\u001b[39m replay_buffer\u001b[38;5;241m.\u001b[39msample(\u001b[38;5;241m128\u001b[39m)\n\u001b[0;32m     11\u001b[0m \u001b[38;5;66;03m# 前向传播\u001b[39;00m\n\u001b[1;32m---> 12\u001b[0m outputs \u001b[38;5;241m=\u001b[39m value(s)\n\u001b[0;32m     13\u001b[0m loss \u001b[38;5;241m=\u001b[39m criterion(outputs, Return)\n\u001b[0;32m     15\u001b[0m \u001b[38;5;66;03m# 反向传播和优化\u001b[39;00m\n",
      "Cell \u001b[1;32mIn[22], line 33\u001b[0m, in \u001b[0;36mValueLearner.__call__\u001b[1;34m(self, s)\u001b[0m\n\u001b[0;32m     30\u001b[0m \u001b[38;5;28;01mdef\u001b[39;00m \u001b[38;5;21m__call__\u001b[39m(\n\u001b[0;32m     31\u001b[0m     \u001b[38;5;28mself\u001b[39m, s: torch\u001b[38;5;241m.\u001b[39mTensor\n\u001b[0;32m     32\u001b[0m ) \u001b[38;5;241m-\u001b[39m\u001b[38;5;241m>\u001b[39m torch\u001b[38;5;241m.\u001b[39mTensor:\n\u001b[1;32m---> 33\u001b[0m     \u001b[38;5;28;01mreturn\u001b[39;00m \u001b[38;5;28mself\u001b[39m\u001b[38;5;241m.\u001b[39mnet(s)\n",
      "File \u001b[1;32md:\\Anaconda3\\envs\\env_py312\\Lib\\site-packages\\torch\\nn\\modules\\module.py:1553\u001b[0m, in \u001b[0;36mModule._wrapped_call_impl\u001b[1;34m(self, *args, **kwargs)\u001b[0m\n\u001b[0;32m   1551\u001b[0m     \u001b[38;5;28;01mreturn\u001b[39;00m \u001b[38;5;28mself\u001b[39m\u001b[38;5;241m.\u001b[39m_compiled_call_impl(\u001b[38;5;241m*\u001b[39margs, \u001b[38;5;241m*\u001b[39m\u001b[38;5;241m*\u001b[39mkwargs)  \u001b[38;5;66;03m# type: ignore[misc]\u001b[39;00m\n\u001b[0;32m   1552\u001b[0m \u001b[38;5;28;01melse\u001b[39;00m:\n\u001b[1;32m-> 1553\u001b[0m     \u001b[38;5;28;01mreturn\u001b[39;00m \u001b[38;5;28mself\u001b[39m\u001b[38;5;241m.\u001b[39m_call_impl(\u001b[38;5;241m*\u001b[39margs, \u001b[38;5;241m*\u001b[39m\u001b[38;5;241m*\u001b[39mkwargs)\n",
      "File \u001b[1;32md:\\Anaconda3\\envs\\env_py312\\Lib\\site-packages\\torch\\nn\\modules\\module.py:1562\u001b[0m, in \u001b[0;36mModule._call_impl\u001b[1;34m(self, *args, **kwargs)\u001b[0m\n\u001b[0;32m   1557\u001b[0m \u001b[38;5;66;03m# If we don't have any hooks, we want to skip the rest of the logic in\u001b[39;00m\n\u001b[0;32m   1558\u001b[0m \u001b[38;5;66;03m# this function, and just call forward.\u001b[39;00m\n\u001b[0;32m   1559\u001b[0m \u001b[38;5;28;01mif\u001b[39;00m \u001b[38;5;129;01mnot\u001b[39;00m (\u001b[38;5;28mself\u001b[39m\u001b[38;5;241m.\u001b[39m_backward_hooks \u001b[38;5;129;01mor\u001b[39;00m \u001b[38;5;28mself\u001b[39m\u001b[38;5;241m.\u001b[39m_backward_pre_hooks \u001b[38;5;129;01mor\u001b[39;00m \u001b[38;5;28mself\u001b[39m\u001b[38;5;241m.\u001b[39m_forward_hooks \u001b[38;5;129;01mor\u001b[39;00m \u001b[38;5;28mself\u001b[39m\u001b[38;5;241m.\u001b[39m_forward_pre_hooks\n\u001b[0;32m   1560\u001b[0m         \u001b[38;5;129;01mor\u001b[39;00m _global_backward_pre_hooks \u001b[38;5;129;01mor\u001b[39;00m _global_backward_hooks\n\u001b[0;32m   1561\u001b[0m         \u001b[38;5;129;01mor\u001b[39;00m _global_forward_hooks \u001b[38;5;129;01mor\u001b[39;00m _global_forward_pre_hooks):\n\u001b[1;32m-> 1562\u001b[0m     \u001b[38;5;28;01mreturn\u001b[39;00m forward_call(\u001b[38;5;241m*\u001b[39margs, \u001b[38;5;241m*\u001b[39m\u001b[38;5;241m*\u001b[39mkwargs)\n\u001b[0;32m   1564\u001b[0m \u001b[38;5;28;01mtry\u001b[39;00m:\n\u001b[0;32m   1565\u001b[0m     result \u001b[38;5;241m=\u001b[39m \u001b[38;5;28;01mNone\u001b[39;00m\n",
      "File \u001b[1;32md:\\Anaconda3\\envs\\env_py312\\Lib\\site-packages\\torch\\nn\\modules\\container.py:219\u001b[0m, in \u001b[0;36mSequential.forward\u001b[1;34m(self, input)\u001b[0m\n\u001b[0;32m    217\u001b[0m \u001b[38;5;28;01mdef\u001b[39;00m \u001b[38;5;21mforward\u001b[39m(\u001b[38;5;28mself\u001b[39m, \u001b[38;5;28minput\u001b[39m):\n\u001b[0;32m    218\u001b[0m     \u001b[38;5;28;01mfor\u001b[39;00m module \u001b[38;5;129;01min\u001b[39;00m \u001b[38;5;28mself\u001b[39m:\n\u001b[1;32m--> 219\u001b[0m         \u001b[38;5;28minput\u001b[39m \u001b[38;5;241m=\u001b[39m module(\u001b[38;5;28minput\u001b[39m)\n\u001b[0;32m    220\u001b[0m     \u001b[38;5;28;01mreturn\u001b[39;00m \u001b[38;5;28minput\u001b[39m\n",
      "File \u001b[1;32md:\\Anaconda3\\envs\\env_py312\\Lib\\site-packages\\torch\\nn\\modules\\module.py:1553\u001b[0m, in \u001b[0;36mModule._wrapped_call_impl\u001b[1;34m(self, *args, **kwargs)\u001b[0m\n\u001b[0;32m   1551\u001b[0m     \u001b[38;5;28;01mreturn\u001b[39;00m \u001b[38;5;28mself\u001b[39m\u001b[38;5;241m.\u001b[39m_compiled_call_impl(\u001b[38;5;241m*\u001b[39margs, \u001b[38;5;241m*\u001b[39m\u001b[38;5;241m*\u001b[39mkwargs)  \u001b[38;5;66;03m# type: ignore[misc]\u001b[39;00m\n\u001b[0;32m   1552\u001b[0m \u001b[38;5;28;01melse\u001b[39;00m:\n\u001b[1;32m-> 1553\u001b[0m     \u001b[38;5;28;01mreturn\u001b[39;00m \u001b[38;5;28mself\u001b[39m\u001b[38;5;241m.\u001b[39m_call_impl(\u001b[38;5;241m*\u001b[39margs, \u001b[38;5;241m*\u001b[39m\u001b[38;5;241m*\u001b[39mkwargs)\n",
      "File \u001b[1;32md:\\Anaconda3\\envs\\env_py312\\Lib\\site-packages\\torch\\nn\\modules\\module.py:1562\u001b[0m, in \u001b[0;36mModule._call_impl\u001b[1;34m(self, *args, **kwargs)\u001b[0m\n\u001b[0;32m   1557\u001b[0m \u001b[38;5;66;03m# If we don't have any hooks, we want to skip the rest of the logic in\u001b[39;00m\n\u001b[0;32m   1558\u001b[0m \u001b[38;5;66;03m# this function, and just call forward.\u001b[39;00m\n\u001b[0;32m   1559\u001b[0m \u001b[38;5;28;01mif\u001b[39;00m \u001b[38;5;129;01mnot\u001b[39;00m (\u001b[38;5;28mself\u001b[39m\u001b[38;5;241m.\u001b[39m_backward_hooks \u001b[38;5;129;01mor\u001b[39;00m \u001b[38;5;28mself\u001b[39m\u001b[38;5;241m.\u001b[39m_backward_pre_hooks \u001b[38;5;129;01mor\u001b[39;00m \u001b[38;5;28mself\u001b[39m\u001b[38;5;241m.\u001b[39m_forward_hooks \u001b[38;5;129;01mor\u001b[39;00m \u001b[38;5;28mself\u001b[39m\u001b[38;5;241m.\u001b[39m_forward_pre_hooks\n\u001b[0;32m   1560\u001b[0m         \u001b[38;5;129;01mor\u001b[39;00m _global_backward_pre_hooks \u001b[38;5;129;01mor\u001b[39;00m _global_backward_hooks\n\u001b[0;32m   1561\u001b[0m         \u001b[38;5;129;01mor\u001b[39;00m _global_forward_hooks \u001b[38;5;129;01mor\u001b[39;00m _global_forward_pre_hooks):\n\u001b[1;32m-> 1562\u001b[0m     \u001b[38;5;28;01mreturn\u001b[39;00m forward_call(\u001b[38;5;241m*\u001b[39margs, \u001b[38;5;241m*\u001b[39m\u001b[38;5;241m*\u001b[39mkwargs)\n\u001b[0;32m   1564\u001b[0m \u001b[38;5;28;01mtry\u001b[39;00m:\n\u001b[0;32m   1565\u001b[0m     result \u001b[38;5;241m=\u001b[39m \u001b[38;5;28;01mNone\u001b[39;00m\n",
      "File \u001b[1;32md:\\Anaconda3\\envs\\env_py312\\Lib\\site-packages\\torch\\nn\\modules\\linear.py:117\u001b[0m, in \u001b[0;36mLinear.forward\u001b[1;34m(self, input)\u001b[0m\n\u001b[0;32m    116\u001b[0m \u001b[38;5;28;01mdef\u001b[39;00m \u001b[38;5;21mforward\u001b[39m(\u001b[38;5;28mself\u001b[39m, \u001b[38;5;28minput\u001b[39m: Tensor) \u001b[38;5;241m-\u001b[39m\u001b[38;5;241m>\u001b[39m Tensor:\n\u001b[1;32m--> 117\u001b[0m     \u001b[38;5;28;01mreturn\u001b[39;00m F\u001b[38;5;241m.\u001b[39mlinear(\u001b[38;5;28minput\u001b[39m, \u001b[38;5;28mself\u001b[39m\u001b[38;5;241m.\u001b[39mweight, \u001b[38;5;28mself\u001b[39m\u001b[38;5;241m.\u001b[39mbias)\n",
      "\u001b[1;31mKeyboardInterrupt\u001b[0m: "
     ]
    }
   ],
   "source": [
    "# value training \n",
    "value_path = os.path.join(path, 'value.pt')\n",
    "if os.path.exists(value_path):\n",
    "    value.load(value_path)\n",
    "else:\n",
    "    criterion = nn.MSELoss()  # 均方误差损失\n",
    "    optimizer = optim.Adam(value.net.parameters(), lr=1e-3)\n",
    "    for step in tqdm.tqdm(range(int(v_steps)), desc='value updating ......'):\n",
    "        value_learner.train()  # 设置模型为训练模式\n",
    "        s, _, _, _, _, _, Return, _ = replay_buffer.sample(128)\n",
    "        # 前向传播\n",
    "        outputs = value(s)\n",
    "        loss = criterion(outputs, Return)\n",
    "\n",
    "        # 反向传播和优化\n",
    "        optimizer.zero_grad()  # 清空之前的梯度\n",
    "        loss.backward()        # 计算梯度\n",
    "        optimizer.step()       # 更新参数\n",
    "        \n",
    "        if step % int(log_freq) == 0:\n",
    "            print(f\"Step: {step}, Loss: {loss.item():.4f}\")\n",
    "            logger.add_scalar('value_loss', loss, global_step=(step+1))\n",
    "    value_learner.save(value_path)"
   ]
  },
  {
   "cell_type": "code",
   "execution_count": 21,
   "metadata": {},
   "outputs": [
    {
     "name": "stdout",
     "output_type": "stream",
     "text": [
      "Epoch [100/1000], Loss: 349.2013\n",
      "Epoch [200/1000], Loss: 197.9289\n",
      "Epoch [300/1000], Loss: 61.6658\n",
      "Epoch [400/1000], Loss: 17.2879\n",
      "Epoch [500/1000], Loss: 14.2019\n",
      "Epoch [600/1000], Loss: 11.9564\n",
      "Epoch [700/1000], Loss: 6.7162\n",
      "Epoch [800/1000], Loss: 4.4973\n",
      "Epoch [900/1000], Loss: 3.3177\n",
      "Epoch [1000/1000], Loss: 4.4639\n"
     ]
    },
    {
     "data": {
      "image/png": "[encoded data removed]",
      "text/plain": [
       "<Figure size 640x480 with 1 Axes>"
      ]
     },
     "metadata": {},
     "output_type": "display_data"
    }
   ],
   "source": [
    "import torch\n",
    "import torch.nn as nn\n",
    "import torch.optim as optim\n",
    "\n",
    "# 定义MLP模型\n",
    "class MLP(nn.Module):\n",
    "    def __init__(self, input_size, hidden_size, output_size):\n",
    "        super(MLP, self).__init__()\n",
    "        self.fc1 = nn.Linear(input_size, hidden_size)\n",
    "        self.fc2 = nn.Linear(hidden_size, output_size)\n",
    "\n",
    "    def forward(self, x):\n",
    "        x = torch.relu(self.fc1(x))\n",
    "        x = self.fc2(x)\n",
    "        return x\n",
    "\n",
    "# 设置超参数\n",
    "input_size = 128   # 输入特征维度\n",
    "hidden_size = 64   # 隐藏层神经元数量\n",
    "output_size = 1    # 输出维度\n",
    "num_epochs = 1000  # 训练轮数\n",
    "learning_rate = 0.001  # 学习率\n",
    "\n",
    "# 创建模型、损失函数和优化器\n",
    "model = MLP(input_size, hidden_size, output_size)\n",
    "criterion = nn.MSELoss()  # 均方误差损失\n",
    "optimizer = optim.Adam(model.parameters(), lr=learning_rate)\n",
    "\n",
    "# 假设s和Return已经是PyTorch张量\n",
    "# s形状为(1000, 128)，Return形状为(1000, 1)\n",
    "\n",
    "# 训练模型\n",
    "for epoch in range(num_epochs):\n",
    "    model.train()  # 设置模型为训练模式\n",
    "    s, _, _, _, _, _, Return, _ = replay_buffer.sample(128)\n",
    "    # 前向传播\n",
    "    outputs = model(s)\n",
    "    loss = criterion(outputs, Return)\n",
    "\n",
    "    # 反向传播和优化\n",
    "    optimizer.zero_grad()  # 清空之前的梯度\n",
    "    loss.backward()        # 计算梯度\n",
    "    optimizer.step()       # 更新参数\n",
    "\n",
    "    # 打印损失\n",
    "    if (epoch + 1) % 100 == 0:\n",
    "        print(f'Epoch [{epoch+1}/{num_epochs}], Loss: {loss.item():.4f}')\n",
    "\n",
    "# 训练完成后，可以使用模型进行预测\n",
    "s1, _, _, _, _, _, Return1, _ = replay_buffer.sample(128)\n",
    "model.eval()  # 设置模型为评估模式\n",
    "with torch.no_grad():\n",
    "    predicted1 = model(s1)  # 通过训练好的模型进行预测\n",
    "\n",
    "plt.plot(predicted1.detach().numpy(), label='Predicted')\n",
    "plt.plot(Return1.numpy(), label='Return')\n",
    "plt.plot(predicted1.detach().numpy() - Return1.numpy(), label='Error')\n",
    "plt.legend()\n",
    "plt.show()"
   ]
  },
  {
   "cell_type": "code",
   "execution_count": null,
   "metadata": {},
   "outputs": [],
   "source": []
  },
  {
   "cell_type": "code",
   "execution_count": 23,
   "metadata": {},
   "outputs": [
    {
     "name": "stderr",
     "output_type": "stream",
     "text": [
      "value updating ......:   0%|          | 0/5000 [00:00<?, ?it/s]\n"
     ]
    },
    {
     "ename": "AttributeError",
     "evalue": "'ValueLearner' object has no attribute 'update'",
     "output_type": "error",
     "traceback": [
      "\u001b[1;31m---------------------------------------------------------------------------\u001b[0m",
      "\u001b[1;31mAttributeError\u001b[0m                            Traceback (most recent call last)",
      "Cell \u001b[1;32mIn[23], line 7\u001b[0m\n\u001b[0;32m      5\u001b[0m \u001b[38;5;28;01melse\u001b[39;00m:\n\u001b[0;32m      6\u001b[0m     \u001b[38;5;28;01mfor\u001b[39;00m step \u001b[38;5;129;01min\u001b[39;00m tqdm\u001b[38;5;241m.\u001b[39mtqdm(\u001b[38;5;28mrange\u001b[39m(\u001b[38;5;28mint\u001b[39m(v_steps)), desc\u001b[38;5;241m=\u001b[39m\u001b[38;5;124m'\u001b[39m\u001b[38;5;124mvalue updating ......\u001b[39m\u001b[38;5;124m'\u001b[39m):\n\u001b[1;32m----> 7\u001b[0m         value_loss \u001b[38;5;241m=\u001b[39m value\u001b[38;5;241m.\u001b[39mupdate(replay_buffer)\n\u001b[0;32m      9\u001b[0m         \u001b[38;5;28;01mif\u001b[39;00m step \u001b[38;5;241m%\u001b[39m \u001b[38;5;28mint\u001b[39m(log_freq) \u001b[38;5;241m==\u001b[39m \u001b[38;5;241m0\u001b[39m:\n\u001b[0;32m     10\u001b[0m             \u001b[38;5;28mprint\u001b[39m(\u001b[38;5;124mf\u001b[39m\u001b[38;5;124m\"\u001b[39m\u001b[38;5;124mStep: \u001b[39m\u001b[38;5;132;01m{\u001b[39;00mstep\u001b[38;5;132;01m}\u001b[39;00m\u001b[38;5;124m, Loss: \u001b[39m\u001b[38;5;132;01m{\u001b[39;00mvalue_loss\u001b[38;5;132;01m:\u001b[39;00m\u001b[38;5;124m.4f\u001b[39m\u001b[38;5;132;01m}\u001b[39;00m\u001b[38;5;124m\"\u001b[39m)\n",
      "File \u001b[1;32md:\\Anaconda3\\envs\\env_py312\\Lib\\site-packages\\torch\\nn\\modules\\module.py:1729\u001b[0m, in \u001b[0;36mModule.__getattr__\u001b[1;34m(self, name)\u001b[0m\n\u001b[0;32m   1727\u001b[0m     \u001b[38;5;28;01mif\u001b[39;00m name \u001b[38;5;129;01min\u001b[39;00m modules:\n\u001b[0;32m   1728\u001b[0m         \u001b[38;5;28;01mreturn\u001b[39;00m modules[name]\n\u001b[1;32m-> 1729\u001b[0m \u001b[38;5;28;01mraise\u001b[39;00m \u001b[38;5;167;01mAttributeError\u001b[39;00m(\u001b[38;5;124mf\u001b[39m\u001b[38;5;124m\"\u001b[39m\u001b[38;5;124m'\u001b[39m\u001b[38;5;132;01m{\u001b[39;00m\u001b[38;5;28mtype\u001b[39m(\u001b[38;5;28mself\u001b[39m)\u001b[38;5;241m.\u001b[39m\u001b[38;5;18m__name__\u001b[39m\u001b[38;5;132;01m}\u001b[39;00m\u001b[38;5;124m'\u001b[39m\u001b[38;5;124m object has no attribute \u001b[39m\u001b[38;5;124m'\u001b[39m\u001b[38;5;132;01m{\u001b[39;00mname\u001b[38;5;132;01m}\u001b[39;00m\u001b[38;5;124m'\u001b[39m\u001b[38;5;124m\"\u001b[39m)\n",
      "\u001b[1;31mAttributeError\u001b[0m: 'ValueLearner' object has no attribute 'update'"
     ]
    }
   ],
   "source": [
    "# value training \n",
    "value_path = os.path.join(path, 'value.pt')\n",
    "if os.path.exists(value_path):\n",
    "    value.load(value_path)\n",
    "else:\n",
    "    for step in tqdm.tqdm(range(int(v_steps)), desc='value updating ......'):\n",
    "        value_loss = value.update(replay_buffer)\n",
    "        \n",
    "        if step % int(log_freq) == 0:\n",
    "            print(f\"Step: {step}, Loss: {value_loss:.4f}\")\n",
    "            logger.add_scalar('value_loss', value_loss, global_step=(step+1))\n",
    "    value.save(value_path)\n",
    "\n",
    "# Q_bc training\n",
    "Q_bc_path = os.path.join(path, 'Q_bc.pt')\n",
    "if os.path.exists(Q_bc_path):\n",
    "    Q_bc.load(Q_bc_path)\n",
    "else:\n",
    "    for step in tqdm.tqdm(range(int(q_bc_steps)), desc='Q_bc updating ......'):\n",
    "        Q_bc_loss = Q_bc.update(replay_buffer, pi=None)\n",
    "        if step % int(log_freq) == 0:\n",
    "            print(f\"Step: {step}, Loss: {Q_bc_loss:.4f}\")\n",
    "            logger.add_scalar('Q_bc_loss', Q_bc_loss, global_step=(step+1))\n",
    "    Q_bc.save(Q_bc_path)\n",
    "\n",
    "if is_offpolicy_update:\n",
    "    Q_pi.load(Q_bc_path)\n",
    "\n"
   ]
  },
  {
   "cell_type": "code",
   "execution_count": 9,
   "metadata": {},
   "outputs": [
    {
     "name": "stderr",
     "output_type": "stream",
     "text": [
      "bc updating ......:   0%|          | 0/500 [00:00<?, ?it/s]\n"
     ]
    },
    {
     "ename": "AttributeError",
     "evalue": "'str' object has no attribute 'reset'",
     "output_type": "error",
     "traceback": [
      "\u001b[1;31m---------------------------------------------------------------------------\u001b[0m",
      "\u001b[1;31mAttributeError\u001b[0m                            Traceback (most recent call last)",
      "Cell \u001b[1;32mIn[9], line 12\u001b[0m\n\u001b[0;32m     10\u001b[0m bc_loss \u001b[38;5;241m=\u001b[39m bc\u001b[38;5;241m.\u001b[39mupdate(replay_buffer)\n\u001b[0;32m     11\u001b[0m \u001b[38;5;28;01mif\u001b[39;00m step \u001b[38;5;241m%\u001b[39m \u001b[38;5;28mint\u001b[39m(log_freq) \u001b[38;5;241m==\u001b[39m \u001b[38;5;241m0\u001b[39m:\n\u001b[1;32m---> 12\u001b[0m     current_bc_score \u001b[38;5;241m=\u001b[39m bc\u001b[38;5;241m.\u001b[39moffline_evaluate(env_name, seed, mean, std)\n\u001b[0;32m     13\u001b[0m     \u001b[38;5;28;01mif\u001b[39;00m current_bc_score \u001b[38;5;241m>\u001b[39m best_bc_score:\n\u001b[0;32m     14\u001b[0m         best_bc_score \u001b[38;5;241m=\u001b[39m current_bc_score\n",
      "File \u001b[1;32me:\\PythonProjects\\BPPO_custom\\bppo.py:86\u001b[0m, in \u001b[0;36mBehaviorCloning.offline_evaluate\u001b[1;34m(self, env, seed, mean, std, eval_episodes)\u001b[0m\n\u001b[0;32m     84\u001b[0m total_reward \u001b[38;5;241m=\u001b[39m \u001b[38;5;241m0\u001b[39m\n\u001b[0;32m     85\u001b[0m \u001b[38;5;28;01mfor\u001b[39;00m _ \u001b[38;5;129;01min\u001b[39;00m \u001b[38;5;28mrange\u001b[39m(eval_episodes):\n\u001b[1;32m---> 86\u001b[0m     s, done \u001b[38;5;241m=\u001b[39m env\u001b[38;5;241m.\u001b[39mreset()[\u001b[38;5;241m0\u001b[39m], \u001b[38;5;28;01mFalse\u001b[39;00m\n\u001b[0;32m     87\u001b[0m     \u001b[38;5;66;03m#print(\"!!!!!s:\", type(s), s.shape, type(mean), mean.shape, type(std), std.shape)\u001b[39;00m\n\u001b[0;32m     88\u001b[0m     \u001b[38;5;28;01mwhile\u001b[39;00m \u001b[38;5;129;01mnot\u001b[39;00m done:\n",
      "\u001b[1;31mAttributeError\u001b[0m: 'str' object has no attribute 'reset'"
     ]
    }
   ],
   "source": [
    "mean, std = 0., 1.\n",
    "\n",
    "# bc training\n",
    "best_bc_path = os.path.join(path, 'bc_best.pt')\n",
    "if os.path.exists(best_bc_path):\n",
    "    bc.load(best_bc_path)\n",
    "else:\n",
    "    best_bc_score = 0\n",
    "    for step in tqdm.tqdm(range(int(bc_steps)), desc='bc updating ......'):\n",
    "        bc_loss = bc.update(replay_buffer)\n",
    "        if step % int(log_freq) == 0:\n",
    "            current_bc_score = bc.offline_evaluate(env_name, seed, mean, std)\n",
    "            if current_bc_score > best_bc_score:\n",
    "                best_bc_score = current_bc_score\n",
    "                bc.save(best_bc_path)\n",
    "                np.savetxt(os.path.join(path, 'best_bc.csv'), [best_bc_score], fmt='%f', delimiter=',')\n",
    "            print(f\"Step: {step}, Loss: {bc_loss:.4f}, Score: {current_bc_score:.4f}\")\n",
    "            logger.add_scalar('bc_loss', bc_loss, global_step=(step+1))\n",
    "            logger.add_scalar('bc_score', current_bc_score, global_step=(step+1))\n",
    "    bc.save(os.path.join(path, 'bc_last.pt'))\n",
    "    bc.load(best_bc_path)\n",
    "\n"
   ]
  },
  {
   "cell_type": "code",
   "execution_count": null,
   "metadata": {},
   "outputs": [],
   "source": [
    "# bppo training\n",
    "bppo.load(best_bc_path)\n",
    "best_bppo_path = os.path.join(path, current_time, 'bppo_best.pt')\n",
    "Q = Q_bc # If advantage replacement, then Q_{\\pi k}=Q_{\\pi\\beta}\n",
    "best_bppo_score = bppo.offline_evaluate(env_name, seed, mean, std)\n",
    "print('best_bppo_score:',best_bppo_score,'-------------------------')\n",
    "for step in tqdm(range(int(bppo_steps)), desc='bppo updating ......'):\n",
    "    if step > 200:\n",
    "        is_clip_decay = False\n",
    "        is_bppo_lr_decay = False\n",
    "    bppo_loss = bppo.update(replay_buffer, Q, value, is_clip_decay, is_bppo_lr_decay)\n",
    "    current_bppo_score = bppo.offline_evaluate(env_name, seed, mean, std) # J_{\\pi k}\n",
    "    if current_bppo_score > best_bppo_score:\n",
    "        best_bppo_score = current_bppo_score\n",
    "        print('best_bppo_score:',best_bppo_score,'-------------------------')\n",
    "        bppo.save(best_bppo_path)\n",
    "        np.savetxt(os.path.join(path, current_time, 'best_bppo.csv'), [best_bppo_score], fmt='%f', delimiter=',')\n",
    "        if is_update_old_policy:\n",
    "            bppo.set_old_policy() # Set the old policy to the current policy\n",
    "    if is_offpolicy_update: # If not using advantage replacement, calculate Q_{\\pi k} by Q-learning\n",
    "        for _ in tqdm(range(int(q_pi_steps)), desc='Q_pi updating ......'): \n",
    "            Q_pi_loss = Q_pi.update(replay_buffer, bppo)\n",
    "        Q = Q_pi\n",
    "    print(f\"Step: {step}, Loss: {bppo_loss:.4f}, Score: {current_bppo_score:.4f}\")\n",
    "    logger.add_scalar('bppo_loss', bppo_loss, global_step=(step+1))\n",
    "    logger.add_scalar('bppo_score', current_bppo_score, global_step=(step+1))\n",
    "\n",
    "logger.close()"
   ]
  },
  {
   "cell_type": "code",
   "execution_count": null,
   "metadata": {},
   "outputs": [],
   "source": []
  }
 ],
 "metadata": {
  "kernelspec": {
   "display_name": "env_py312",
   "language": "python",
   "name": "python3"
  },
  "language_info": {
   "codemirror_mode": {
    "name": "ipython",
    "version": 3
   },
   "file_extension": ".py",
   "mimetype": "text/x-python",
   "name": "python",
   "nbconvert_exporter": "python",
   "pygments_lexer": "ipython3",
   "version": "3.12.5"
  }
 },
 "nbformat": 4,
 "nbformat_minor": 2
}
