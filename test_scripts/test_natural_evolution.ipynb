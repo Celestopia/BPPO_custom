{
 "cells": [
  {
   "cell_type": "code",
   "execution_count": 1,
   "metadata": {},
   "outputs": [],
   "source": [
    "import numpy as np\n",
    "import matplotlib.pyplot as plt\n",
    "import pandas as pd\n",
    "import pickle\n",
    "import os\n",
    "import sys\n",
    "import tqdm\n",
    "# Modify the working path so that this.ipynb file can import other modules like in the root directory\n",
    "current_dir = os.path.dirname(os.path.abspath('__file__'))\n",
    "sys.path.append(os.path.join(current_dir, '..'))"
   ]
  },
  {
   "cell_type": "code",
   "execution_count": 2,
   "metadata": {},
   "outputs": [
    {
     "name": "stdout",
     "output_type": "stream",
     "text": [
      "Dataset: burgers\n",
      "Test data loaded from:  ..\\datasets\\burgers_50_10_128.pkl\n",
      "Y_bar shape:  (50, 10, 128)\n",
      "Y_f shape:  (50, 128)\n",
      "U shape:  (50, 10, 128)\n"
     ]
    }
   ],
   "source": [
    "dataset_names=[\"burgers\", \"kuramoto\", \"power\", \"ip\"]\n",
    "dataset_name=dataset_names[0] # can be changed\n",
    "\n",
    "if dataset_name==\"burgers\":\n",
    "    test_data_path=os.path.join(\"..\", \"datasets\", \"burgers_50_10_128.pkl\")\n",
    "elif dataset_name==\"kuramoto\":\n",
    "    test_data_path=os.path.join(\"..\", \"datasets\", \"kuramoto_100_15_8_8.pkl\")\n",
    "elif dataset_name==\"power\":\n",
    "    test_data_path=os.path.join(\"..\", \"datasets\", \"power_100_31_18_9.pkl\")\n",
    "elif dataset_name==\"ip\":\n",
    "    test_data_path=os.path.join(\"..\", \"datasets\", \"inverted_pendulum_100_127_2_1.pkl\")\n",
    "\n",
    "test_data_dict=pickle.load(open(test_data_path,\"rb\"))\n",
    "print(f\"Dataset: {dataset_name}\")\n",
    "print(\"Test data loaded from: \", test_data_path)\n",
    "Y_bar=test_data_dict['data']['Y_bar']\n",
    "Y_f=test_data_dict['data']['Y_f']\n",
    "U=test_data_dict['data']['U']\n",
    "print(\"Y_bar shape: \", Y_bar.shape)\n",
    "print(\"Y_f shape: \", Y_f.shape)\n",
    "print(\"U shape: \", U.shape)"
   ]
  },
  {
   "cell_type": "code",
   "execution_count": 4,
   "metadata": {},
   "outputs": [
    {
     "name": "stderr",
     "output_type": "stream",
     "text": [
      "Looping over trajectories: 100%|██████████| 50/50 [00:16<00:00,  3.06it/s]"
     ]
    },
    {
     "name": "stdout",
     "output_type": "stream",
     "text": [
      "Dataset: burgers\n",
      "Natural target loss: 0.00353475\n"
     ]
    },
    {
     "name": "stderr",
     "output_type": "stream",
     "text": [
      "\n"
     ]
    }
   ],
   "source": [
    "\n",
    "def natural_evolve(initial_state, target_state, dataset_name=\"burgers\"):\n",
    "    '''\n",
    "    Return the final state vector given initial state vector without control input.\n",
    "    '''\n",
    "    s=initial_state # (state_dim,), the state vector (original meaning)\n",
    "\n",
    "    if dataset_name==\"burgers\":\n",
    "        from dynamics.burgers_dynamics import burgers_update\n",
    "        for i in range(10): # Loop over time steps to update the state vector\n",
    "            s=burgers_update(state=s,action=np.zeros(128),delta_t=0.1, t=None) # get the updated state vector (of original meaning)\n",
    "    if dataset_name==\"kuramoto\":\n",
    "        from dynamics.kuramoto_dynamics import kuramoto_update\n",
    "        for i in range(15): # Loop over time steps to update the state vector\n",
    "            s=kuramoto_update(state=s, action=np.zeros(8), delta_t=0.01, t=None) # get the updated state vector (of original meaning)\n",
    "    if dataset_name==\"power\":\n",
    "        from dynamics.swing_dynamics import swing_update\n",
    "        for i in range(31): # Loop over time steps to update the state vector\n",
    "            s=swing_update(state=s, action=np.zeros(9), delta_t=0.01, t=i*0.01) # get the updated state vector (of original meaning)\n",
    "    if dataset_name==\"ip\":\n",
    "        from dynamics.ip_dynamics import ip_update\n",
    "        for i in range(127): # Loop over time steps to update the state vector\n",
    "            s=ip_update(state=s, action=np.zeros(1), delta_t=0.01, t=None) # get the updated state vector (of original meaning)\n",
    "\n",
    "    target_loss=((s-target_state)**2).mean() # MSE loss between target state and final state\n",
    "    return s, target_loss # final state, (state_dim,); target loss, scalar; energy, scalar\n",
    "\n",
    "def evaluate_natural_target_loss(Y_bar, Y_f, dataset_name):\n",
    "    final_losses=[]\n",
    "    n_trajectories=Y_bar.shape[0]\n",
    "    for i in tqdm.tqdm(range(n_trajectories), desc='Looping over trajectories'):\n",
    "        initial_state = Y_bar[i][0] # (state_dim,)\n",
    "        target_state = Y_f[i] # (state_dim,)\n",
    "        final_state, target_loss=natural_evolve(initial_state, target_state, dataset_name=dataset_name) # Natural evolution\n",
    "        final_losses.append(target_loss)\n",
    "    return np.mean(final_losses)\n",
    "\n",
    "natural_target_loss = evaluate_natural_target_loss(Y_bar, Y_f, dataset_name=dataset_name)\n",
    "print(f\"Dataset: {dataset_name}\")\n",
    "print(f\"Natural target loss: {natural_target_loss:.8f}\")\n"
   ]
  },
  {
   "cell_type": "code",
   "execution_count": 5,
   "metadata": {},
   "outputs": [
    {
     "name": "stdout",
     "output_type": "stream",
     "text": [
      "0.7154887737851607\n"
     ]
    }
   ],
   "source": [
    "delta_t=0.1\n",
    "energys=[]\n",
    "for i in range(U.shape[0]):\n",
    "    for t in range(U.shape[1]):\n",
    "        energys.append((U[i,t]**2).sum()*delta_t)\n",
    "print(np.array(energys).mean())"
   ]
  }
 ],
 "metadata": {
  "kernelspec": {
   "display_name": "env_py312",
   "language": "python",
   "name": "python3"
  },
  "language_info": {
   "codemirror_mode": {
    "name": "ipython",
    "version": 3
   },
   "file_extension": ".py",
   "mimetype": "text/x-python",
   "name": "python",
   "nbconvert_exporter": "python",
   "pygments_lexer": "ipython3",
   "version": "3.12.5"
  }
 },
 "nbformat": 4,
 "nbformat_minor": 2
}
