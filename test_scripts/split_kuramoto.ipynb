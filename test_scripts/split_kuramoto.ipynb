{
 "cells": [
  {
   "cell_type": "code",
   "execution_count": 6,
   "metadata": {},
   "outputs": [],
   "source": [
    "import numpy as np\n",
    "import torch\n",
    "import torch.nn as nn\n",
    "import pickle\n",
    "import os"
   ]
  },
  {
   "cell_type": "code",
   "execution_count": 7,
   "metadata": {},
   "outputs": [
    {
     "name": "stdout",
     "output_type": "stream",
     "text": [
      "dict_keys(['sys', 'adj', 'meta_data', 'data'])\n",
      "dict_keys(['X0', 'X_bar', 'X_f', 'U', 'Y_bar', 'Y_f'])\n",
      "(100000, 15, 8)\n",
      "(100000, 8)\n",
      "(100000, 15, 8)\n"
     ]
    }
   ],
   "source": [
    "path1=os.path.join(\"datasets\",\"kuramoto_8_8_15_100000_2_sigma=2_normal.pkl\")\n",
    "data_dict=pickle.load(open(path1,\"rb\"))\n",
    "print(data_dict.keys())\n",
    "print(data_dict['data'].keys())\n",
    "print(data_dict['data']['Y_bar'].shape)\n",
    "print(data_dict['data']['Y_f'].shape)\n",
    "print(data_dict['data']['U'].shape)"
   ]
  },
  {
   "cell_type": "code",
   "execution_count": 10,
   "metadata": {},
   "outputs": [],
   "source": [
    "new_data_dict={}\n",
    "new_data_dict[\"data\"]={}\n",
    "new_data_dict[\"data\"][\"Y_bar\"]=data_dict[\"data\"][\"Y_bar\"][:99900,:,:]\n",
    "new_data_dict[\"data\"][\"Y_f\"]=data_dict[\"data\"][\"Y_f\"][:99900,:]\n",
    "new_data_dict[\"data\"][\"U\"]=data_dict[\"data\"][\"U\"][:99900,:,:]\n",
    "pickle.dump(new_data_dict, open(os.path.join(\"datasets\",\"kuramoto_99900_15_8_8.pkl\"), \"wb\"))"
   ]
  },
  {
   "cell_type": "code",
   "execution_count": 11,
   "metadata": {},
   "outputs": [],
   "source": [
    "new_data_dict={}\n",
    "new_data_dict[\"data\"]={}\n",
    "new_data_dict[\"data\"][\"Y_bar\"]=data_dict[\"data\"][\"Y_bar\"][99900:,:,:]\n",
    "new_data_dict[\"data\"][\"Y_f\"]=data_dict[\"data\"][\"Y_f\"][99900:,:]\n",
    "new_data_dict[\"data\"][\"U\"]=data_dict[\"data\"][\"U\"][99900:,:,:]\n",
    "pickle.dump(new_data_dict, open(os.path.join(\"datasets\",\"kuramoto_100_15_8_8.pkl\"), \"wb\"))"
   ]
  }
 ],
 "metadata": {
  "kernelspec": {
   "display_name": "env_py312",
   "language": "python",
   "name": "python3"
  },
  "language_info": {
   "codemirror_mode": {
    "name": "ipython",
    "version": 3
   },
   "file_extension": ".py",
   "mimetype": "text/x-python",
   "name": "python",
   "nbconvert_exporter": "python",
   "pygments_lexer": "ipython3",
   "version": "3.12.5"
  }
 },
 "nbformat": 4,
 "nbformat_minor": 2
}
