{
 "cells": [
  {
   "cell_type": "code",
   "execution_count": 1,
   "metadata": {},
   "outputs": [],
   "source": [
    "import numpy as np\n",
    "import torch\n",
    "import matplotlib.pyplot as plt\n",
    "import tqdm\n",
    "import os\n",
    "import time\n",
    "from tensorboardX import SummaryWriter\n",
    "\n",
    "#from envs.burgers import Burgers\n",
    "from buffer import OfflineReplayBuffer\n",
    "from critic import ValueLearner, QPiLearner, QSarsaLearner\n",
    "from bppo import BehaviorCloning, BehaviorProximalPolicyOptimization"
   ]
  },
  {
   "cell_type": "code",
   "execution_count": 2,
   "metadata": {},
   "outputs": [],
   "source": [
    "# Hyperparameters\n",
    "\n",
    "# Experiment\n",
    "env_name='burger'\n",
    "path='logs'\n",
    "log_freq=int(20)\n",
    "seed=20241219\n",
    "torch.manual_seed(seed)\n",
    "torch.cuda.manual_seed(seed)\n",
    "np.random.seed(seed)\n",
    "N=100 # Number of trajectories to collect for offline dataset\n",
    "\n",
    "# For Value\n",
    "v_steps=int(5000)\n",
    "v_hidden_dim = 256\n",
    "v_depth = 3\n",
    "v_lr = 1e-4\n",
    "v_batch_size = 64\n",
    "\n",
    "# For Q\n",
    "q_bc_steps=int(5000)\n",
    "q_pi_steps=10 # Number of steps to update Q-network in each iteration. Only used if is_offpolicy_update=True.\n",
    "q_hidden_dim = 256\n",
    "q_depth = 3\n",
    "q_lr = 1e-4\n",
    "q_batch_size = 64\n",
    "target_update_freq=2\n",
    "tau=0.005 # Soft update rate for target Q network parameters. See Q_learner.update()\n",
    "gamma=0.99 # Discount factor for calculating the return.\n",
    "is_offpolicy_update=False # Whether to use advantage replacement (as proposed in the BPPO paper) in Q-learning.\n",
    "# If False, use Q-learning to update the Q-network parameters in each iteration.\n",
    "# If True, only update the Q-network parameters once, and keep using this Q-network.\n",
    "\n",
    "# For BC\n",
    "bc_steps=int(500)\n",
    "bc_lr = 1e-4\n",
    "bc_hidden_dim = 256\n",
    "bc_depth = 3\n",
    "bc_batch_size = 64\n",
    "\n",
    "# For BPPO\n",
    "bppo_steps=int(100)\n",
    "bppo_hidden_dim = 256\n",
    "bppo_depth = 3\n",
    "bppo_lr = 1e-4\n",
    "bppo_batch_size = 64\n",
    "clip_ratio=0.25 # PPO clip ratio. The probability ratio between new and old policy is clipped to be in the range [1-clip_ratio, 1+clip_ratio]\n",
    "entropy_weight=0.00 # Weight of entropy loss in PPO and BPPO. Can be set to 0.01 for medium tasks.\n",
    "decay=0.96 # Decay rate of PPO clip ratio\n",
    "omega=0.9 # Related to setting the weight of advantage (see PPO code)\n",
    "is_clip_decay=True # Whether to decay the clip_ratio during training\n",
    "is_bppo_lr_decay=True # Whether to decay the learning rate of BPPO during trainining\n",
    "is_update_old_policy=True # Whether to update the old policy of BPPO in each iteration. The old policy is used to calculate the probability ratio.\n",
    "is_state_norm=False # Whether to normalize the states of the dataset.\n",
    "\n",
    "# Other Settings\n",
    "#device = torch.device('cuda' if torch.cuda.is_available() else 'cpu')\n",
    "device=torch.device('cpu')\n",
    "state_dim = 128\n",
    "action_dim = 128\n",
    "x_range=(-5,5)\n",
    "\n"
   ]
  },
  {
   "cell_type": "code",
   "execution_count": 3,
   "metadata": {},
   "outputs": [],
   "source": [
    "#env=Burgers(\n",
    "#    n=state_dim,\n",
    "#    m=action_dim,\n",
    "#    T=8,\n",
    "#    x_range=[-1,1],\n",
    "#    energy_penalty=0.01,\n",
    "#    device='cpu'\n",
    "#)"
   ]
  },
  {
   "cell_type": "code",
   "execution_count": 4,
   "metadata": {},
   "outputs": [
    {
     "name": "stderr",
     "output_type": "stream",
     "text": [
      "Generating samples: 100%|██████████| 1/1 [00:00<00:00,  5.37it/s]\n",
      "Setting terminal flags: 100%|██████████| 1/1 [00:00<00:00, 150.63it/s]\n",
      "Setting rewards: 100%|██████████| 1/1 [00:00<00:00, 982.04it/s]"
     ]
    },
    {
     "name": "stdout",
     "output_type": "stream",
     "text": [
      "Y_bar shape:  (1, 500, 128)\n",
      "Y_f shape:  (1, 128)\n",
      "U shape:  (1, 500, 128)\n",
      "Terminals shape:  (1, 500)\n",
      "Timeouts shape:  (1, 500)\n",
      "Rewards shape:  (1, 500)\n",
      "(500, 128)\n",
      "(500, 128)\n",
      "(500,)\n",
      "(500,)\n",
      "(500,)\n"
     ]
    },
    {
     "name": "stderr",
     "output_type": "stream",
     "text": [
      "\n"
     ]
    }
   ],
   "source": [
    "from generate_burgers import load_burgers\n",
    "\n",
    "dataset = load_burgers(\n",
    "                x_range=x_range,\n",
    "                nt = 500, # Number of time steps\n",
    "                nx = state_dim, # Number of spatial nodes (grid points)\n",
    "                dt= 0.001, # Temporal interval\n",
    "                N = 1, # Number of samples (trajectories) to generate\n",
    "                visualize=False # Whether to show the animation of state trajectory evolution\n",
    "                )\n",
    "\n",
    "for key in dataset.keys():\n",
    "    if key!=\"meta_data\":\n",
    "        dataset[key]=dataset[key].squeeze(0)\n",
    "\n",
    "print(dataset['observations'].shape)\n",
    "print(dataset['actions'].shape)\n",
    "print(dataset['rewards'].shape)\n",
    "print(dataset['terminals'].shape)\n",
    "print(dataset['timeouts'].shape)"
   ]
  },
  {
   "cell_type": "code",
   "execution_count": 5,
   "metadata": {},
   "outputs": [
    {
     "name": "stderr",
     "output_type": "stream",
     "text": [
      "Computing the returns: 499it [00:00, 176323.31it/s]\n"
     ]
    }
   ],
   "source": [
    "replay_buffer = OfflineReplayBuffer(device, state_dim, action_dim, len(dataset['actions']))\n",
    "replay_buffer.load_dataset(dataset=dataset)\n",
    "replay_buffer.compute_return(gamma) # Compute the discounted return for the trajectory, with a discount factor of gamma (default 0.99)."
   ]
  },
  {
   "cell_type": "code",
   "execution_count": 6,
   "metadata": {},
   "outputs": [
    {
     "name": "stdout",
     "output_type": "stream",
     "text": [
      "Made log directory at logs\\20241219\\2024_12_22__08_48_18\n"
     ]
    }
   ],
   "source": [
    "# summarywriter logger\n",
    "# path\n",
    "\n",
    "current_time = time.strftime(\"%Y_%m_%d__%H_%M_%S\", time.localtime())\n",
    "path = os.path.join(path, str(seed))\n",
    "os.makedirs(os.path.join(path, current_time))\n",
    "print(f'Made log directory at {os.path.join(path, current_time)}')\n",
    "\n",
    "logger_path = os.path.join(path, current_time)\n",
    "logger = SummaryWriter(log_dir=logger_path, comment='')"
   ]
  },
  {
   "cell_type": "code",
   "execution_count": 7,
   "metadata": {},
   "outputs": [],
   "source": [
    "# initilize\n",
    "value = ValueLearner(device=device,\n",
    "                        state_dim=state_dim,\n",
    "                        hidden_dim=v_hidden_dim,\n",
    "                        depth=v_depth,\n",
    "                        value_lr=v_lr,\n",
    "                        batch_size=v_batch_size)\n",
    "\n",
    "Q_bc = QSarsaLearner(device=device,\n",
    "                        state_dim=state_dim,\n",
    "                        action_dim=action_dim,\n",
    "                        hidden_dim=q_hidden_dim, depth=q_depth,\n",
    "                        Q_lr=q_lr,\n",
    "                        target_update_freq=target_update_freq,\n",
    "                        tau=tau,\n",
    "                        gamma=gamma,\n",
    "                        batch_size=q_batch_size)\n",
    "if is_offpolicy_update: \n",
    "    Q_pi=QPiLearner(device=device,\n",
    "                        state_dim=state_dim,\n",
    "                        action_dim=action_dim,\n",
    "                        hidden_dim=q_hidden_dim,\n",
    "                        depth=q_depth,\n",
    "                        Q_lr=q_lr,\n",
    "                        target_update_freq=target_update_freq,\n",
    "                        tau=tau,\n",
    "                        gamma=gamma,\n",
    "                        batch_size=q_batch_size)\n",
    "bc=BehaviorCloning(device=device,\n",
    "                        state_dim=state_dim,\n",
    "                        hidden_dim=bc_hidden_dim,\n",
    "                        depth=bc_depth,\n",
    "                        action_dim=action_dim,\n",
    "                        policy_lr=bc_lr,\n",
    "                        batch_size=bc_batch_size)\n",
    "bppo=BehaviorProximalPolicyOptimization(device=device,\n",
    "                        state_dim=state_dim,\n",
    "                        hidden_dim=bppo_hidden_dim,\n",
    "                        depth=bppo_depth,\n",
    "                        action_dim=action_dim,\n",
    "                        policy_lr=bppo_lr,\n",
    "                        clip_ratio=clip_ratio,\n",
    "                        entropy_weight=entropy_weight,\n",
    "                        decay=decay,\n",
    "                        omega=omega,\n",
    "                        batch_size=bppo_batch_size)"
   ]
  },
  {
   "cell_type": "code",
   "execution_count": 8,
   "metadata": {},
   "outputs": [
    {
     "name": "stderr",
     "output_type": "stream",
     "text": [
      "value updating ......:   1%|          | 37/5000 [00:01<02:19, 35.63it/s] "
     ]
    },
    {
     "name": "stdout",
     "output_type": "stream",
     "text": [
      "Step: 0, Loss: 638.8598\n",
      "Step: 20, Loss: 320.1189\n",
      "Step: 40, Loss: 565.1950\n",
      "Step: 60, Loss: 424.6550\n"
     ]
    },
    {
     "name": "stderr",
     "output_type": "stream",
     "text": [
      "value updating ......:   3%|▎         | 139/5000 [00:01<00:31, 152.38it/s]"
     ]
    },
    {
     "name": "stdout",
     "output_type": "stream",
     "text": [
      "Step: 80, Loss: 801.4885\n",
      "Step: 100, Loss: 742.3171\n",
      "Step: 120, Loss: 941.8500\n",
      "Step: 140, Loss: 743.4591\n"
     ]
    },
    {
     "name": "stderr",
     "output_type": "stream",
     "text": [
      "value updating ......:   4%|▍         | 205/5000 [00:01<00:22, 217.60it/s]"
     ]
    },
    {
     "name": "stdout",
     "output_type": "stream",
     "text": [
      "Step: 160, Loss: 462.5739\n",
      "Step: 180, Loss: 396.0893\n",
      "Step: 200, Loss: 694.8433\n",
      "Step: 220, Loss: 744.7766\n"
     ]
    },
    {
     "name": "stderr",
     "output_type": "stream",
     "text": [
      "value updating ......:   6%|▌         | 306/5000 [00:02<00:17, 275.69it/s]"
     ]
    },
    {
     "name": "stdout",
     "output_type": "stream",
     "text": [
      "Step: 240, Loss: 564.7543\n",
      "Step: 260, Loss: 804.4673\n",
      "Step: 280, Loss: 397.1973\n",
      "Step: 300, Loss: 684.2120\n"
     ]
    },
    {
     "name": "stderr",
     "output_type": "stream",
     "text": [
      "value updating ......:   7%|▋         | 370/5000 [00:02<00:17, 267.53it/s]"
     ]
    },
    {
     "name": "stdout",
     "output_type": "stream",
     "text": [
      "Step: 320, Loss: 743.1808\n",
      "Step: 340, Loss: 754.7490\n",
      "Step: 360, Loss: 350.7657\n"
     ]
    },
    {
     "name": "stderr",
     "output_type": "stream",
     "text": [
      "value updating ......:   9%|▊         | 434/5000 [00:02<00:15, 289.17it/s]"
     ]
    },
    {
     "name": "stdout",
     "output_type": "stream",
     "text": [
      "Step: 380, Loss: 659.4980\n",
      "Step: 400, Loss: 463.6422\n",
      "Step: 420, Loss: 497.9687\n",
      "Step: 440, Loss: 791.5464\n"
     ]
    },
    {
     "name": "stderr",
     "output_type": "stream",
     "text": [
      "value updating ......:  10%|▉         | 497/5000 [00:02<00:15, 294.60it/s]"
     ]
    },
    {
     "name": "stdout",
     "output_type": "stream",
     "text": [
      "Step: 460, Loss: 792.3071\n",
      "Step: 480, Loss: 606.4875\n",
      "Step: 500, Loss: 534.1238\n",
      "Step: 520, Loss: 773.9961\n"
     ]
    },
    {
     "name": "stderr",
     "output_type": "stream",
     "text": [
      "value updating ......:  12%|█▏        | 601/5000 [00:03<00:13, 324.15it/s]"
     ]
    },
    {
     "name": "stdout",
     "output_type": "stream",
     "text": [
      "Step: 540, Loss: 1053.7471\n",
      "Step: 560, Loss: 559.0447\n",
      "Step: 580, Loss: 518.7889\n",
      "Step: 600, Loss: 608.3584\n"
     ]
    },
    {
     "name": "stderr",
     "output_type": "stream",
     "text": [
      "value updating ......:  13%|█▎        | 670/5000 [00:03<00:13, 332.75it/s]"
     ]
    },
    {
     "name": "stdout",
     "output_type": "stream",
     "text": [
      "Step: 620, Loss: 701.5894\n",
      "Step: 640, Loss: 554.2498\n",
      "Step: 660, Loss: 597.8645\n",
      "Step: 680, Loss: 708.7838\n"
     ]
    },
    {
     "name": "stderr",
     "output_type": "stream",
     "text": [
      "value updating ......:  15%|█▍        | 738/5000 [00:03<00:12, 333.91it/s]"
     ]
    },
    {
     "name": "stdout",
     "output_type": "stream",
     "text": [
      "Step: 700, Loss: 561.6718\n",
      "Step: 720, Loss: 565.0482\n",
      "Step: 740, Loss: 325.8413\n",
      "Step: 760, Loss: 726.3159\n"
     ]
    },
    {
     "name": "stderr",
     "output_type": "stream",
     "text": [
      "value updating ......:  17%|█▋        | 836/5000 [00:03<00:13, 307.76it/s]"
     ]
    },
    {
     "name": "stdout",
     "output_type": "stream",
     "text": [
      "Step: 780, Loss: 708.1761\n",
      "Step: 800, Loss: 528.6220\n",
      "Step: 820, Loss: 444.6699\n",
      "Step: 840, Loss: 592.1289\n"
     ]
    },
    {
     "name": "stderr",
     "output_type": "stream",
     "text": [
      "value updating ......:  18%|█▊        | 903/5000 [00:04<00:13, 299.17it/s]"
     ]
    },
    {
     "name": "stdout",
     "output_type": "stream",
     "text": [
      "Step: 860, Loss: 601.7285\n",
      "Step: 880, Loss: 662.8354\n",
      "Step: 900, Loss: 853.8428\n",
      "Step: 920, Loss: 357.7036\n"
     ]
    },
    {
     "name": "stderr",
     "output_type": "stream",
     "text": [
      "value updating ......:  20%|██        | 1008/5000 [00:04<00:12, 327.25it/s]"
     ]
    },
    {
     "name": "stdout",
     "output_type": "stream",
     "text": [
      "Step: 940, Loss: 431.4635\n",
      "Step: 960, Loss: 863.9988\n",
      "Step: 980, Loss: 741.7407\n",
      "Step: 1000, Loss: 558.1211\n"
     ]
    },
    {
     "name": "stderr",
     "output_type": "stream",
     "text": [
      "value updating ......:  22%|██▏       | 1076/5000 [00:04<00:12, 321.40it/s]"
     ]
    },
    {
     "name": "stdout",
     "output_type": "stream",
     "text": [
      "Step: 1020, Loss: 787.9465\n",
      "Step: 1040, Loss: 674.3970\n",
      "Step: 1060, Loss: 536.1116\n",
      "Step: 1080, Loss: 675.0549\n"
     ]
    },
    {
     "name": "stderr",
     "output_type": "stream",
     "text": [
      "value updating ......:  23%|██▎       | 1144/5000 [00:04<00:11, 321.49it/s]"
     ]
    },
    {
     "name": "stdout",
     "output_type": "stream",
     "text": [
      "Step: 1100, Loss: 406.8063\n",
      "Step: 1120, Loss: 833.5507\n",
      "Step: 1140, Loss: 415.9622\n",
      "Step: 1160, Loss: 478.1833\n"
     ]
    },
    {
     "name": "stderr",
     "output_type": "stream",
     "text": [
      "value updating ......:  24%|██▍       | 1209/5000 [00:05<00:13, 279.01it/s]"
     ]
    },
    {
     "name": "stdout",
     "output_type": "stream",
     "text": [
      "Step: 1180, Loss: 687.3192\n",
      "Step: 1200, Loss: 662.6204\n",
      "Step: 1220, Loss: 225.9887\n"
     ]
    },
    {
     "name": "stderr",
     "output_type": "stream",
     "text": [
      "value updating ......:  26%|██▌       | 1308/5000 [00:05<00:11, 307.80it/s]"
     ]
    },
    {
     "name": "stdout",
     "output_type": "stream",
     "text": [
      "Step: 1240, Loss: 712.2952\n",
      "Step: 1260, Loss: 597.4591\n",
      "Step: 1280, Loss: 549.0647\n",
      "Step: 1300, Loss: 274.6313\n"
     ]
    },
    {
     "name": "stderr",
     "output_type": "stream",
     "text": [
      "value updating ......:  28%|██▊       | 1378/5000 [00:05<00:11, 325.80it/s]"
     ]
    },
    {
     "name": "stdout",
     "output_type": "stream",
     "text": [
      "Step: 1320, Loss: 531.5466\n",
      "Step: 1340, Loss: 814.0281\n",
      "Step: 1360, Loss: 733.6257\n",
      "Step: 1380, Loss: 532.2000\n"
     ]
    },
    {
     "name": "stderr",
     "output_type": "stream",
     "text": [
      "value updating ......:  29%|██▉       | 1447/5000 [00:05<00:10, 331.19it/s]"
     ]
    },
    {
     "name": "stdout",
     "output_type": "stream",
     "text": [
      "Step: 1400, Loss: 545.4302\n",
      "Step: 1420, Loss: 367.0625\n",
      "Step: 1440, Loss: 779.0391\n",
      "Step: 1460, Loss: 584.6986\n"
     ]
    },
    {
     "name": "stderr",
     "output_type": "stream",
     "text": [
      "value updating ......:  30%|███       | 1519/5000 [00:06<00:10, 342.63it/s]"
     ]
    },
    {
     "name": "stdout",
     "output_type": "stream",
     "text": [
      "Step: 1480, Loss: 630.8165\n",
      "Step: 1500, Loss: 528.8572\n",
      "Step: 1520, Loss: 416.2148\n",
      "Step: 1540, Loss: 659.9594\n"
     ]
    },
    {
     "name": "stderr",
     "output_type": "stream",
     "text": [
      "value updating ......:  33%|███▎      | 1633/5000 [00:06<00:09, 358.16it/s]"
     ]
    },
    {
     "name": "stdout",
     "output_type": "stream",
     "text": [
      "Step: 1560, Loss: 770.9537\n",
      "Step: 1580, Loss: 506.3866\n",
      "Step: 1600, Loss: 393.1492\n",
      "Step: 1620, Loss: 761.0797\n"
     ]
    },
    {
     "name": "stderr",
     "output_type": "stream",
     "text": [
      "value updating ......:  34%|███▍      | 1704/5000 [00:06<00:09, 344.62it/s]"
     ]
    },
    {
     "name": "stdout",
     "output_type": "stream",
     "text": [
      "Step: 1640, Loss: 520.5682\n",
      "Step: 1660, Loss: 569.3446\n",
      "Step: 1680, Loss: 413.8614\n",
      "Step: 1700, Loss: 549.5835\n"
     ]
    },
    {
     "name": "stderr",
     "output_type": "stream",
     "text": [
      "value updating ......:  35%|███▌      | 1772/5000 [00:06<00:10, 319.77it/s]"
     ]
    },
    {
     "name": "stdout",
     "output_type": "stream",
     "text": [
      "Step: 1720, Loss: 725.3757\n",
      "Step: 1740, Loss: 402.0027\n",
      "Step: 1760, Loss: 1012.4977\n",
      "Step: 1780, Loss: 541.9210\n"
     ]
    },
    {
     "name": "stderr",
     "output_type": "stream",
     "text": [
      "value updating ......:  37%|███▋      | 1837/5000 [00:07<00:10, 315.29it/s]"
     ]
    },
    {
     "name": "stdout",
     "output_type": "stream",
     "text": [
      "Step: 1800, Loss: 478.0930\n",
      "Step: 1820, Loss: 654.5812\n",
      "Step: 1840, Loss: 818.4982\n",
      "Step: 1860, Loss: 624.0108\n"
     ]
    },
    {
     "name": "stderr",
     "output_type": "stream",
     "text": [
      "value updating ......:  39%|███▉      | 1939/5000 [00:07<00:09, 323.48it/s]"
     ]
    },
    {
     "name": "stdout",
     "output_type": "stream",
     "text": [
      "Step: 1880, Loss: 547.3718\n",
      "Step: 1900, Loss: 769.2697\n",
      "Step: 1920, Loss: 917.1426\n"
     ]
    },
    {
     "name": "stderr",
     "output_type": "stream",
     "text": [
      "value updating ......:  39%|███▉      | 1972/5000 [00:07<00:09, 315.92it/s]"
     ]
    },
    {
     "name": "stdout",
     "output_type": "stream",
     "text": [
      "Step: 1940, Loss: 874.3759\n",
      "Step: 1960, Loss: 404.5074\n",
      "Step: 1980, Loss: 817.7238\n",
      "Step: 2000, Loss: 496.8673\n"
     ]
    },
    {
     "name": "stderr",
     "output_type": "stream",
     "text": [
      "value updating ......:  41%|████▏     | 2073/5000 [00:07<00:09, 323.94it/s]"
     ]
    },
    {
     "name": "stdout",
     "output_type": "stream",
     "text": [
      "Step: 2020, Loss: 752.0190\n",
      "Step: 2040, Loss: 605.4684\n",
      "Step: 2060, Loss: 731.6558\n",
      "Step: 2080, Loss: 457.7534\n"
     ]
    },
    {
     "name": "stderr",
     "output_type": "stream",
     "text": [
      "value updating ......:  43%|████▎     | 2139/5000 [00:08<00:08, 318.53it/s]"
     ]
    },
    {
     "name": "stdout",
     "output_type": "stream",
     "text": [
      "Step: 2100, Loss: 512.4647\n",
      "Step: 2120, Loss: 496.7715\n",
      "Step: 2140, Loss: 893.2159\n",
      "Step: 2160, Loss: 496.4716\n"
     ]
    },
    {
     "name": "stderr",
     "output_type": "stream",
     "text": [
      "value updating ......:  44%|████▍     | 2207/5000 [00:08<00:08, 312.79it/s]"
     ]
    },
    {
     "name": "stdout",
     "output_type": "stream",
     "text": [
      "Step: 2180, Loss: 607.5563\n",
      "Step: 2200, Loss: 862.6934\n",
      "Step: 2220, Loss: 701.3168\n"
     ]
    },
    {
     "name": "stderr",
     "output_type": "stream",
     "text": [
      "value updating ......:  46%|████▌     | 2307/5000 [00:08<00:08, 321.60it/s]"
     ]
    },
    {
     "name": "stdout",
     "output_type": "stream",
     "text": [
      "Step: 2240, Loss: 572.6505\n",
      "Step: 2260, Loss: 706.7531\n",
      "Step: 2280, Loss: 613.0215\n",
      "Step: 2300, Loss: 566.8564\n"
     ]
    },
    {
     "name": "stderr",
     "output_type": "stream",
     "text": [
      "value updating ......:  47%|████▋     | 2373/5000 [00:08<00:08, 320.73it/s]"
     ]
    },
    {
     "name": "stdout",
     "output_type": "stream",
     "text": [
      "Step: 2320, Loss: 505.9854\n",
      "Step: 2340, Loss: 555.7771\n",
      "Step: 2360, Loss: 589.0645\n",
      "Step: 2380, Loss: 585.1517\n"
     ]
    },
    {
     "name": "stderr",
     "output_type": "stream",
     "text": [
      "value updating ......:  49%|████▉     | 2439/5000 [00:08<00:07, 322.04it/s]"
     ]
    },
    {
     "name": "stdout",
     "output_type": "stream",
     "text": [
      "Step: 2400, Loss: 422.7511\n",
      "Step: 2420, Loss: 605.2994\n",
      "Step: 2440, Loss: 536.0291\n",
      "Step: 2460, Loss: 489.8204\n"
     ]
    },
    {
     "name": "stderr",
     "output_type": "stream",
     "text": [
      "value updating ......:  51%|█████     | 2543/5000 [00:09<00:07, 339.01it/s]"
     ]
    },
    {
     "name": "stdout",
     "output_type": "stream",
     "text": [
      "Step: 2480, Loss: 515.4106\n",
      "Step: 2500, Loss: 817.1881\n",
      "Step: 2520, Loss: 355.2080\n",
      "Step: 2540, Loss: 658.7552\n"
     ]
    },
    {
     "name": "stderr",
     "output_type": "stream",
     "text": [
      "value updating ......:  52%|█████▏    | 2611/5000 [00:09<00:07, 317.69it/s]"
     ]
    },
    {
     "name": "stdout",
     "output_type": "stream",
     "text": [
      "Step: 2560, Loss: 705.6857\n",
      "Step: 2580, Loss: 615.5677\n",
      "Step: 2600, Loss: 868.4702\n",
      "Step: 2620, Loss: 425.8678\n"
     ]
    },
    {
     "name": "stderr",
     "output_type": "stream",
     "text": [
      "value updating ......:  54%|█████▎    | 2677/5000 [00:09<00:08, 281.03it/s]"
     ]
    },
    {
     "name": "stdout",
     "output_type": "stream",
     "text": [
      "Step: 2640, Loss: 774.0927\n",
      "Step: 2660, Loss: 539.6527\n",
      "Step: 2680, Loss: 465.8843\n"
     ]
    },
    {
     "name": "stderr",
     "output_type": "stream",
     "text": [
      "value updating ......:  55%|█████▍    | 2741/5000 [00:09<00:07, 298.44it/s]"
     ]
    },
    {
     "name": "stdout",
     "output_type": "stream",
     "text": [
      "Step: 2700, Loss: 657.1459\n",
      "Step: 2720, Loss: 931.4008\n",
      "Step: 2740, Loss: 449.6349\n",
      "Step: 2760, Loss: 708.7882\n"
     ]
    },
    {
     "name": "stderr",
     "output_type": "stream",
     "text": [
      "value updating ......:  56%|█████▌    | 2807/5000 [00:10<00:07, 308.59it/s]"
     ]
    },
    {
     "name": "stdout",
     "output_type": "stream",
     "text": [
      "Step: 2780, Loss: 557.0690\n",
      "Step: 2800, Loss: 473.7819\n",
      "Step: 2820, Loss: 952.0511\n"
     ]
    },
    {
     "name": "stderr",
     "output_type": "stream",
     "text": [
      "value updating ......:  57%|█████▊    | 2875/5000 [00:10<00:06, 312.08it/s]"
     ]
    },
    {
     "name": "stdout",
     "output_type": "stream",
     "text": [
      "Step: 2840, Loss: 407.2787\n",
      "Step: 2860, Loss: 957.2119\n",
      "Step: 2880, Loss: 626.4003\n",
      "Step: 2900, Loss: 945.8451\n"
     ]
    },
    {
     "name": "stderr",
     "output_type": "stream",
     "text": [
      "value updating ......:  59%|█████▉    | 2973/5000 [00:10<00:06, 313.64it/s]"
     ]
    },
    {
     "name": "stdout",
     "output_type": "stream",
     "text": [
      "Step: 2920, Loss: 561.4493\n",
      "Step: 2940, Loss: 547.9085\n",
      "Step: 2960, Loss: 490.9080\n",
      "Step: 2980, Loss: 461.2778\n"
     ]
    },
    {
     "name": "stderr",
     "output_type": "stream",
     "text": [
      "value updating ......:  61%|██████    | 3038/5000 [00:10<00:06, 290.18it/s]"
     ]
    },
    {
     "name": "stdout",
     "output_type": "stream",
     "text": [
      "Step: 3000, Loss: 552.9227\n",
      "Step: 3020, Loss: 605.9680\n",
      "Step: 3040, Loss: 833.0936\n"
     ]
    },
    {
     "name": "stderr",
     "output_type": "stream",
     "text": [
      "value updating ......:  62%|██████▏   | 3107/5000 [00:11<00:06, 313.78it/s]"
     ]
    },
    {
     "name": "stdout",
     "output_type": "stream",
     "text": [
      "Step: 3060, Loss: 454.4328\n",
      "Step: 3080, Loss: 301.8225\n",
      "Step: 3100, Loss: 508.6702\n",
      "Step: 3120, Loss: 1070.9968\n"
     ]
    },
    {
     "name": "stderr",
     "output_type": "stream",
     "text": [
      "value updating ......:  64%|██████▎   | 3179/5000 [00:11<00:05, 333.57it/s]"
     ]
    },
    {
     "name": "stdout",
     "output_type": "stream",
     "text": [
      "Step: 3140, Loss: 600.9622\n",
      "Step: 3160, Loss: 685.0624\n",
      "Step: 3180, Loss: 534.8539\n"
     ]
    },
    {
     "name": "stderr",
     "output_type": "stream",
     "text": [
      "value updating ......:  65%|██████▍   | 3243/5000 [00:11<00:06, 283.15it/s]"
     ]
    },
    {
     "name": "stdout",
     "output_type": "stream",
     "text": [
      "Step: 3200, Loss: 507.1703\n",
      "Step: 3220, Loss: 423.0503\n",
      "Step: 3240, Loss: 663.2650\n"
     ]
    },
    {
     "name": "stderr",
     "output_type": "stream",
     "text": [
      "value updating ......:  66%|██████▌   | 3305/5000 [00:11<00:05, 293.19it/s]"
     ]
    },
    {
     "name": "stdout",
     "output_type": "stream",
     "text": [
      "Step: 3260, Loss: 481.0671\n",
      "Step: 3280, Loss: 518.9271\n",
      "Step: 3300, Loss: 644.1630\n",
      "Step: 3320, Loss: 514.4845\n"
     ]
    },
    {
     "name": "stderr",
     "output_type": "stream",
     "text": [
      "value updating ......:  68%|██████▊   | 3407/5000 [00:12<00:04, 320.89it/s]"
     ]
    },
    {
     "name": "stdout",
     "output_type": "stream",
     "text": [
      "Step: 3340, Loss: 539.7743\n",
      "Step: 3360, Loss: 324.8545\n",
      "Step: 3380, Loss: 911.8685\n",
      "Step: 3400, Loss: 529.6162\n"
     ]
    },
    {
     "name": "stderr",
     "output_type": "stream",
     "text": [
      "value updating ......:  69%|██████▉   | 3473/5000 [00:12<00:04, 312.34it/s]"
     ]
    },
    {
     "name": "stdout",
     "output_type": "stream",
     "text": [
      "Step: 3420, Loss: 353.6418\n",
      "Step: 3440, Loss: 350.6833\n",
      "Step: 3460, Loss: 592.7999\n",
      "Step: 3480, Loss: 806.2081\n"
     ]
    },
    {
     "name": "stderr",
     "output_type": "stream",
     "text": [
      "value updating ......:  71%|███████   | 3539/5000 [00:12<00:04, 318.60it/s]"
     ]
    },
    {
     "name": "stdout",
     "output_type": "stream",
     "text": [
      "Step: 3500, Loss: 742.9350\n",
      "Step: 3520, Loss: 684.9734\n",
      "Step: 3540, Loss: 524.0303\n",
      "Step: 3560, Loss: 529.0164\n"
     ]
    },
    {
     "name": "stderr",
     "output_type": "stream",
     "text": [
      "value updating ......:  72%|███████▏  | 3608/5000 [00:12<00:04, 300.91it/s]"
     ]
    },
    {
     "name": "stdout",
     "output_type": "stream",
     "text": [
      "Step: 3580, Loss: 709.4185\n",
      "Step: 3600, Loss: 865.5955\n",
      "Step: 3620, Loss: 742.2057\n"
     ]
    },
    {
     "name": "stderr",
     "output_type": "stream",
     "text": [
      "value updating ......:  74%|███████▎  | 3675/5000 [00:12<00:04, 300.82it/s]"
     ]
    },
    {
     "name": "stdout",
     "output_type": "stream",
     "text": [
      "Step: 3640, Loss: 566.9672\n",
      "Step: 3660, Loss: 598.7563\n",
      "Step: 3680, Loss: 723.9078\n",
      "Step: 3700, Loss: 661.6117\n"
     ]
    },
    {
     "name": "stderr",
     "output_type": "stream",
     "text": [
      "value updating ......:  76%|███████▌  | 3780/5000 [00:13<00:03, 333.13it/s]"
     ]
    },
    {
     "name": "stdout",
     "output_type": "stream",
     "text": [
      "Step: 3720, Loss: 851.9012\n",
      "Step: 3740, Loss: 295.1391\n",
      "Step: 3760, Loss: 522.5359\n",
      "Step: 3780, Loss: 591.1624\n",
      "Step: 3800, Loss: 404.7218\n"
     ]
    },
    {
     "name": "stderr",
     "output_type": "stream",
     "text": [
      "value updating ......:  78%|███████▊  | 3885/5000 [00:13<00:03, 339.29it/s]"
     ]
    },
    {
     "name": "stdout",
     "output_type": "stream",
     "text": [
      "Step: 3820, Loss: 422.8117\n",
      "Step: 3840, Loss: 695.4582\n",
      "Step: 3860, Loss: 670.3823\n",
      "Step: 3880, Loss: 495.1016\n"
     ]
    },
    {
     "name": "stderr",
     "output_type": "stream",
     "text": [
      "value updating ......:  79%|███████▉  | 3955/5000 [00:13<00:03, 333.86it/s]"
     ]
    },
    {
     "name": "stdout",
     "output_type": "stream",
     "text": [
      "Step: 3900, Loss: 587.4418\n",
      "Step: 3920, Loss: 357.8606\n",
      "Step: 3940, Loss: 639.3068\n",
      "Step: 3960, Loss: 679.0305\n"
     ]
    },
    {
     "name": "stderr",
     "output_type": "stream",
     "text": [
      "value updating ......:  80%|████████  | 4023/5000 [00:14<00:03, 318.84it/s]"
     ]
    },
    {
     "name": "stdout",
     "output_type": "stream",
     "text": [
      "Step: 3980, Loss: 428.6386\n",
      "Step: 4000, Loss: 419.2843\n",
      "Step: 4020, Loss: 644.9881\n",
      "Step: 4040, Loss: 506.1121\n"
     ]
    },
    {
     "name": "stderr",
     "output_type": "stream",
     "text": [
      "value updating ......:  82%|████████▏ | 4088/5000 [00:14<00:03, 288.39it/s]"
     ]
    },
    {
     "name": "stdout",
     "output_type": "stream",
     "text": [
      "Step: 4060, Loss: 506.4437\n",
      "Step: 4080, Loss: 353.2959\n",
      "Step: 4100, Loss: 410.2612\n"
     ]
    },
    {
     "name": "stderr",
     "output_type": "stream",
     "text": [
      "value updating ......:  83%|████████▎ | 4154/5000 [00:14<00:02, 296.15it/s]"
     ]
    },
    {
     "name": "stdout",
     "output_type": "stream",
     "text": [
      "Step: 4120, Loss: 966.2755\n",
      "Step: 4140, Loss: 657.4513\n",
      "Step: 4160, Loss: 970.6635\n",
      "Step: 4180, Loss: 792.2530\n"
     ]
    },
    {
     "name": "stderr",
     "output_type": "stream",
     "text": [
      "value updating ......:  85%|████████▌ | 4260/5000 [00:14<00:02, 314.79it/s]"
     ]
    },
    {
     "name": "stdout",
     "output_type": "stream",
     "text": [
      "Step: 4200, Loss: 563.3919\n",
      "Step: 4220, Loss: 632.3127\n",
      "Step: 4240, Loss: 473.7846\n"
     ]
    },
    {
     "name": "stderr",
     "output_type": "stream",
     "text": [
      "value updating ......:  86%|████████▌ | 4292/5000 [00:14<00:02, 309.27it/s]"
     ]
    },
    {
     "name": "stdout",
     "output_type": "stream",
     "text": [
      "Step: 4260, Loss: 474.1518\n",
      "Step: 4280, Loss: 815.3550\n",
      "Step: 4300, Loss: 390.4822\n",
      "Step: 4320, Loss: 460.0091\n"
     ]
    },
    {
     "name": "stderr",
     "output_type": "stream",
     "text": [
      "value updating ......:  88%|████████▊ | 4400/5000 [00:15<00:01, 341.07it/s]"
     ]
    },
    {
     "name": "stdout",
     "output_type": "stream",
     "text": [
      "Step: 4340, Loss: 500.9609\n",
      "Step: 4360, Loss: 808.7103\n",
      "Step: 4380, Loss: 620.7711\n",
      "Step: 4400, Loss: 612.9519\n"
     ]
    },
    {
     "name": "stderr",
     "output_type": "stream",
     "text": [
      "value updating ......:  89%|████████▉ | 4470/5000 [00:15<00:01, 337.28it/s]"
     ]
    },
    {
     "name": "stdout",
     "output_type": "stream",
     "text": [
      "Step: 4420, Loss: 653.4590\n",
      "Step: 4440, Loss: 662.5223\n",
      "Step: 4460, Loss: 732.6746\n",
      "Step: 4480, Loss: 199.2470\n"
     ]
    },
    {
     "name": "stderr",
     "output_type": "stream",
     "text": [
      "value updating ......:  91%|█████████ | 4538/5000 [00:15<00:01, 313.61it/s]"
     ]
    },
    {
     "name": "stdout",
     "output_type": "stream",
     "text": [
      "Step: 4500, Loss: 680.5910\n",
      "Step: 4520, Loss: 628.6027\n",
      "Step: 4540, Loss: 896.7379\n",
      "Step: 4560, Loss: 457.5738\n"
     ]
    },
    {
     "name": "stderr",
     "output_type": "stream",
     "text": [
      "value updating ......:  93%|█████████▎| 4643/5000 [00:15<00:01, 329.16it/s]"
     ]
    },
    {
     "name": "stdout",
     "output_type": "stream",
     "text": [
      "Step: 4580, Loss: 546.0240\n",
      "Step: 4600, Loss: 673.7510\n",
      "Step: 4620, Loss: 472.0642\n",
      "Step: 4640, Loss: 816.7435\n"
     ]
    },
    {
     "name": "stderr",
     "output_type": "stream",
     "text": [
      "value updating ......:  94%|█████████▍| 4713/5000 [00:16<00:00, 331.22it/s]"
     ]
    },
    {
     "name": "stdout",
     "output_type": "stream",
     "text": [
      "Step: 4660, Loss: 831.9493\n",
      "Step: 4680, Loss: 445.5744\n",
      "Step: 4700, Loss: 763.8932\n",
      "Step: 4720, Loss: 388.0011\n"
     ]
    },
    {
     "name": "stderr",
     "output_type": "stream",
     "text": [
      "value updating ......:  96%|█████████▌| 4786/5000 [00:16<00:00, 344.88it/s]"
     ]
    },
    {
     "name": "stdout",
     "output_type": "stream",
     "text": [
      "Step: 4740, Loss: 726.6476\n",
      "Step: 4760, Loss: 653.7624\n",
      "Step: 4780, Loss: 709.2326\n",
      "Step: 4800, Loss: 666.7553\n"
     ]
    },
    {
     "name": "stderr",
     "output_type": "stream",
     "text": [
      "value updating ......:  97%|█████████▋| 4855/5000 [00:16<00:00, 308.79it/s]"
     ]
    },
    {
     "name": "stdout",
     "output_type": "stream",
     "text": [
      "Step: 4820, Loss: 544.1670\n",
      "Step: 4840, Loss: 660.7374\n",
      "Step: 4860, Loss: 644.0764\n"
     ]
    },
    {
     "name": "stderr",
     "output_type": "stream",
     "text": [
      "value updating ......:  98%|█████████▊| 4918/5000 [00:16<00:00, 270.01it/s]"
     ]
    },
    {
     "name": "stdout",
     "output_type": "stream",
     "text": [
      "Step: 4880, Loss: 753.3221\n",
      "Step: 4900, Loss: 739.7057\n",
      "Step: 4920, Loss: 407.8567\n"
     ]
    },
    {
     "name": "stderr",
     "output_type": "stream",
     "text": [
      "value updating ......: 100%|██████████| 5000/5000 [00:17<00:00, 291.73it/s]\n"
     ]
    },
    {
     "name": "stdout",
     "output_type": "stream",
     "text": [
      "Step: 4940, Loss: 614.8984\n",
      "Step: 4960, Loss: 602.3511\n",
      "Step: 4980, Loss: 855.9218\n",
      "Value parameters saved in logs\\20241219\\value.pt\n"
     ]
    },
    {
     "name": "stderr",
     "output_type": "stream",
     "text": [
      "Q_bc updating ......:   0%|          | 25/5000 [00:00<00:19, 249.73it/s]"
     ]
    },
    {
     "name": "stdout",
     "output_type": "stream",
     "text": [
      "Step: 0, Loss: 0.1865\n",
      "Step: 20, Loss: 0.1759\n",
      "Step: 40, Loss: 0.1910\n"
     ]
    },
    {
     "name": "stderr",
     "output_type": "stream",
     "text": [
      "Q_bc updating ......:   2%|▏         | 80/5000 [00:00<00:18, 260.16it/s]"
     ]
    },
    {
     "name": "stdout",
     "output_type": "stream",
     "text": [
      "Step: 60, Loss: 0.3480\n",
      "Step: 80, Loss: 0.1583\n",
      "Step: 100, Loss: 0.2342\n"
     ]
    },
    {
     "name": "stderr",
     "output_type": "stream",
     "text": [
      "Q_bc updating ......:   3%|▎         | 158/5000 [00:00<00:21, 229.78it/s]"
     ]
    },
    {
     "name": "stdout",
     "output_type": "stream",
     "text": [
      "Step: 120, Loss: 0.1752\n",
      "Step: 140, Loss: 0.2106\n",
      "Step: 160, Loss: 0.1978\n"
     ]
    },
    {
     "name": "stderr",
     "output_type": "stream",
     "text": [
      "Q_bc updating ......:   4%|▍         | 210/5000 [00:00<00:20, 231.98it/s]"
     ]
    },
    {
     "name": "stdout",
     "output_type": "stream",
     "text": [
      "Step: 180, Loss: 0.1700\n",
      "Step: 200, Loss: 0.2530\n",
      "Step: 220, Loss: 0.2174\n"
     ]
    },
    {
     "name": "stderr",
     "output_type": "stream",
     "text": [
      "Q_bc updating ......:   5%|▌         | 266/5000 [00:01<00:18, 250.63it/s]"
     ]
    },
    {
     "name": "stdout",
     "output_type": "stream",
     "text": [
      "Step: 240, Loss: 0.2284\n",
      "Step: 260, Loss: 0.1076\n",
      "Step: 280, Loss: 0.1891\n"
     ]
    },
    {
     "name": "stderr",
     "output_type": "stream",
     "text": [
      "Q_bc updating ......:   6%|▋         | 323/5000 [00:01<00:19, 242.33it/s]"
     ]
    },
    {
     "name": "stdout",
     "output_type": "stream",
     "text": [
      "Step: 300, Loss: 0.2864\n",
      "Step: 320, Loss: 0.2702\n",
      "Step: 340, Loss: 0.1504\n"
     ]
    },
    {
     "name": "stderr",
     "output_type": "stream",
     "text": [
      "Q_bc updating ......:   8%|▊         | 399/5000 [00:01<00:18, 245.31it/s]"
     ]
    },
    {
     "name": "stdout",
     "output_type": "stream",
     "text": [
      "Step: 360, Loss: 0.1220\n",
      "Step: 380, Loss: 0.2180\n",
      "Step: 400, Loss: 0.3750\n"
     ]
    },
    {
     "name": "stderr",
     "output_type": "stream",
     "text": [
      "Q_bc updating ......:   9%|▉         | 449/5000 [00:01<00:19, 236.23it/s]"
     ]
    },
    {
     "name": "stdout",
     "output_type": "stream",
     "text": [
      "Step: 420, Loss: 0.2318\n",
      "Step: 440, Loss: 0.1581\n",
      "Step: 460, Loss: 0.3800\n"
     ]
    },
    {
     "name": "stderr",
     "output_type": "stream",
     "text": [
      "Q_bc updating ......:  11%|█         | 532/5000 [00:02<00:17, 259.65it/s]"
     ]
    },
    {
     "name": "stdout",
     "output_type": "stream",
     "text": [
      "Step: 480, Loss: 0.1936\n",
      "Step: 500, Loss: 0.2596\n",
      "Step: 520, Loss: 0.2920\n"
     ]
    },
    {
     "name": "stderr",
     "output_type": "stream",
     "text": [
      "Q_bc updating ......:  12%|█▏        | 586/5000 [00:02<00:16, 262.87it/s]"
     ]
    },
    {
     "name": "stdout",
     "output_type": "stream",
     "text": [
      "Step: 540, Loss: 0.3227\n",
      "Step: 560, Loss: 0.2476\n",
      "Step: 580, Loss: 0.2543\n"
     ]
    },
    {
     "name": "stderr",
     "output_type": "stream",
     "text": [
      "Q_bc updating ......:  13%|█▎        | 640/5000 [00:02<00:16, 261.14it/s]"
     ]
    },
    {
     "name": "stdout",
     "output_type": "stream",
     "text": [
      "Step: 600, Loss: 0.3158\n",
      "Step: 620, Loss: 0.4349\n",
      "Step: 640, Loss: 0.2450\n"
     ]
    },
    {
     "name": "stderr",
     "output_type": "stream",
     "text": [
      "Q_bc updating ......:  14%|█▍        | 692/5000 [00:02<00:18, 239.21it/s]"
     ]
    },
    {
     "name": "stdout",
     "output_type": "stream",
     "text": [
      "Step: 660, Loss: 0.4265\n",
      "Step: 680, Loss: 0.3000\n",
      "Step: 700, Loss: 0.2516\n"
     ]
    },
    {
     "name": "stderr",
     "output_type": "stream",
     "text": [
      "Q_bc updating ......:  15%|█▍        | 747/5000 [00:03<00:16, 255.19it/s]"
     ]
    },
    {
     "name": "stdout",
     "output_type": "stream",
     "text": [
      "Step: 720, Loss: 0.1603\n",
      "Step: 740, Loss: 0.2044\n",
      "Step: 760, Loss: 0.2220\n"
     ]
    },
    {
     "name": "stderr",
     "output_type": "stream",
     "text": [
      "Q_bc updating ......:  17%|█▋        | 832/5000 [00:03<00:15, 265.53it/s]"
     ]
    },
    {
     "name": "stdout",
     "output_type": "stream",
     "text": [
      "Step: 780, Loss: 0.1471\n",
      "Step: 800, Loss: 0.2628\n",
      "Step: 820, Loss: 0.3209\n"
     ]
    },
    {
     "name": "stderr",
     "output_type": "stream",
     "text": [
      "Q_bc updating ......:  18%|█▊        | 886/5000 [00:03<00:16, 256.02it/s]"
     ]
    },
    {
     "name": "stdout",
     "output_type": "stream",
     "text": [
      "Step: 840, Loss: 0.1854\n",
      "Step: 860, Loss: 0.1750\n",
      "Step: 880, Loss: 0.2398\n"
     ]
    },
    {
     "name": "stderr",
     "output_type": "stream",
     "text": [
      "Q_bc updating ......:  19%|█▉        | 939/5000 [00:03<00:16, 253.54it/s]"
     ]
    },
    {
     "name": "stdout",
     "output_type": "stream",
     "text": [
      "Step: 900, Loss: 0.2097\n",
      "Step: 920, Loss: 0.1982\n",
      "Step: 940, Loss: 0.2158\n"
     ]
    },
    {
     "name": "stderr",
     "output_type": "stream",
     "text": [
      "Q_bc updating ......:  20%|█▉        | 990/5000 [00:04<00:17, 233.87it/s]"
     ]
    },
    {
     "name": "stdout",
     "output_type": "stream",
     "text": [
      "Step: 960, Loss: 0.2997\n",
      "Step: 980, Loss: 0.2584\n"
     ]
    },
    {
     "name": "stderr",
     "output_type": "stream",
     "text": [
      "Q_bc updating ......:  21%|██        | 1042/5000 [00:04<00:16, 236.76it/s]"
     ]
    },
    {
     "name": "stdout",
     "output_type": "stream",
     "text": [
      "Step: 1000, Loss: 0.3455\n",
      "Step: 1020, Loss: 0.2381\n",
      "Step: 1040, Loss: 0.1859\n"
     ]
    },
    {
     "name": "stderr",
     "output_type": "stream",
     "text": [
      "Q_bc updating ......:  22%|██▏       | 1094/5000 [00:04<00:16, 237.73it/s]"
     ]
    },
    {
     "name": "stdout",
     "output_type": "stream",
     "text": [
      "Step: 1060, Loss: 0.1864\n",
      "Step: 1080, Loss: 0.3411\n",
      "Step: 1100, Loss: 0.1916\n"
     ]
    },
    {
     "name": "stderr",
     "output_type": "stream",
     "text": [
      "Q_bc updating ......:  23%|██▎       | 1144/5000 [00:04<00:16, 237.59it/s]"
     ]
    },
    {
     "name": "stdout",
     "output_type": "stream",
     "text": [
      "Step: 1120, Loss: 0.2869\n",
      "Step: 1140, Loss: 0.1726\n",
      "Step: 1160, Loss: 0.1860\n"
     ]
    },
    {
     "name": "stderr",
     "output_type": "stream",
     "text": [
      "Q_bc updating ......:  24%|██▍       | 1215/5000 [00:05<00:18, 208.38it/s]"
     ]
    },
    {
     "name": "stdout",
     "output_type": "stream",
     "text": [
      "Step: 1180, Loss: 0.3771\n",
      "Step: 1200, Loss: 0.1895\n"
     ]
    },
    {
     "name": "stderr",
     "output_type": "stream",
     "text": [
      "Q_bc updating ......:  25%|██▌       | 1270/5000 [00:05<00:15, 237.72it/s]"
     ]
    },
    {
     "name": "stdout",
     "output_type": "stream",
     "text": [
      "Step: 1220, Loss: 0.3059\n",
      "Step: 1240, Loss: 0.2429\n",
      "Step: 1260, Loss: 0.2065\n"
     ]
    },
    {
     "name": "stderr",
     "output_type": "stream",
     "text": [
      "Q_bc updating ......:  26%|██▋       | 1322/5000 [00:05<00:15, 234.85it/s]"
     ]
    },
    {
     "name": "stdout",
     "output_type": "stream",
     "text": [
      "Step: 1280, Loss: 0.2375\n",
      "Step: 1300, Loss: 0.2230\n",
      "Step: 1320, Loss: 0.2477\n"
     ]
    },
    {
     "name": "stderr",
     "output_type": "stream",
     "text": [
      "Q_bc updating ......:  28%|██▊       | 1376/5000 [00:05<00:14, 252.10it/s]"
     ]
    },
    {
     "name": "stdout",
     "output_type": "stream",
     "text": [
      "Step: 1340, Loss: 0.3009\n",
      "Step: 1360, Loss: 0.2473\n",
      "Step: 1380, Loss: 0.2089\n"
     ]
    },
    {
     "name": "stderr",
     "output_type": "stream",
     "text": [
      "Q_bc updating ......:  29%|██▊       | 1427/5000 [00:05<00:15, 235.20it/s]"
     ]
    },
    {
     "name": "stdout",
     "output_type": "stream",
     "text": [
      "Step: 1400, Loss: 0.2635\n",
      "Step: 1420, Loss: 0.2895\n",
      "Step: 1440, Loss: 0.3266\n"
     ]
    },
    {
     "name": "stderr",
     "output_type": "stream",
     "text": [
      "Q_bc updating ......:  30%|██▉       | 1482/5000 [00:06<00:14, 246.86it/s]"
     ]
    },
    {
     "name": "stdout",
     "output_type": "stream",
     "text": [
      "Step: 1460, Loss: 0.2950\n",
      "Step: 1480, Loss: 0.2123\n",
      "Step: 1500, Loss: 0.1835\n"
     ]
    },
    {
     "name": "stderr",
     "output_type": "stream",
     "text": [
      "Q_bc updating ......:  31%|███▏      | 1563/5000 [00:06<00:13, 258.96it/s]"
     ]
    },
    {
     "name": "stdout",
     "output_type": "stream",
     "text": [
      "Step: 1520, Loss: 0.2453\n",
      "Step: 1540, Loss: 0.2273\n",
      "Step: 1560, Loss: 0.2030\n"
     ]
    },
    {
     "name": "stderr",
     "output_type": "stream",
     "text": [
      "Q_bc updating ......:  32%|███▏      | 1614/5000 [00:06<00:13, 245.97it/s]"
     ]
    },
    {
     "name": "stdout",
     "output_type": "stream",
     "text": [
      "Step: 1580, Loss: 0.3687\n",
      "Step: 1600, Loss: 0.1661\n",
      "Step: 1620, Loss: 0.2506\n"
     ]
    },
    {
     "name": "stderr",
     "output_type": "stream",
     "text": [
      "Q_bc updating ......:  34%|███▍      | 1691/5000 [00:06<00:13, 243.67it/s]"
     ]
    },
    {
     "name": "stdout",
     "output_type": "stream",
     "text": [
      "Step: 1640, Loss: 0.2626\n",
      "Step: 1660, Loss: 0.2934\n",
      "Step: 1680, Loss: 0.2973\n"
     ]
    },
    {
     "name": "stderr",
     "output_type": "stream",
     "text": [
      "Q_bc updating ......:  35%|███▍      | 1747/5000 [00:07<00:12, 260.24it/s]"
     ]
    },
    {
     "name": "stdout",
     "output_type": "stream",
     "text": [
      "Step: 1700, Loss: 0.1709\n",
      "Step: 1720, Loss: 0.3165\n",
      "Step: 1740, Loss: 0.1700\n"
     ]
    },
    {
     "name": "stderr",
     "output_type": "stream",
     "text": [
      "Q_bc updating ......:  36%|███▌      | 1802/5000 [00:07<00:12, 261.09it/s]"
     ]
    },
    {
     "name": "stdout",
     "output_type": "stream",
     "text": [
      "Step: 1760, Loss: 0.1634\n",
      "Step: 1780, Loss: 0.1633\n",
      "Step: 1800, Loss: 0.2431\n"
     ]
    },
    {
     "name": "stderr",
     "output_type": "stream",
     "text": [
      "Q_bc updating ......:  37%|███▋      | 1855/5000 [00:07<00:12, 251.96it/s]"
     ]
    },
    {
     "name": "stdout",
     "output_type": "stream",
     "text": [
      "Step: 1820, Loss: 0.1514\n",
      "Step: 1840, Loss: 0.2745\n",
      "Step: 1860, Loss: 0.1535\n"
     ]
    },
    {
     "name": "stderr",
     "output_type": "stream",
     "text": [
      "Q_bc updating ......:  38%|███▊      | 1908/5000 [00:07<00:12, 253.93it/s]"
     ]
    },
    {
     "name": "stdout",
     "output_type": "stream",
     "text": [
      "Step: 1880, Loss: 0.2892\n",
      "Step: 1900, Loss: 0.1647\n",
      "Step: 1920, Loss: 0.4185\n"
     ]
    },
    {
     "name": "stderr",
     "output_type": "stream",
     "text": [
      "Q_bc updating ......:  39%|███▉      | 1963/5000 [00:08<00:12, 252.14it/s]"
     ]
    },
    {
     "name": "stdout",
     "output_type": "stream",
     "text": [
      "Step: 1940, Loss: 0.1176\n",
      "Step: 1960, Loss: 0.2595\n",
      "Step: 1980, Loss: 0.1299\n"
     ]
    },
    {
     "name": "stderr",
     "output_type": "stream",
     "text": [
      "Q_bc updating ......:  41%|████      | 2040/5000 [00:08<00:12, 236.88it/s]"
     ]
    },
    {
     "name": "stdout",
     "output_type": "stream",
     "text": [
      "Step: 2000, Loss: 0.2841\n",
      "Step: 2020, Loss: 0.1969\n",
      "Step: 2040, Loss: 0.2763\n"
     ]
    },
    {
     "name": "stderr",
     "output_type": "stream",
     "text": [
      "Q_bc updating ......:  42%|████▏     | 2090/5000 [00:08<00:12, 239.91it/s]"
     ]
    },
    {
     "name": "stdout",
     "output_type": "stream",
     "text": [
      "Step: 2060, Loss: 0.2336\n",
      "Step: 2080, Loss: 0.1896\n",
      "Step: 2100, Loss: 0.1856\n"
     ]
    },
    {
     "name": "stderr",
     "output_type": "stream",
     "text": [
      "Q_bc updating ......:  43%|████▎     | 2170/5000 [00:08<00:11, 254.28it/s]"
     ]
    },
    {
     "name": "stdout",
     "output_type": "stream",
     "text": [
      "Step: 2120, Loss: 0.2079\n",
      "Step: 2140, Loss: 0.2043\n",
      "Step: 2160, Loss: 0.3079\n"
     ]
    },
    {
     "name": "stderr",
     "output_type": "stream",
     "text": [
      "Q_bc updating ......:  44%|████▍     | 2222/5000 [00:09<00:11, 246.98it/s]"
     ]
    },
    {
     "name": "stdout",
     "output_type": "stream",
     "text": [
      "Step: 2180, Loss: 0.3409\n",
      "Step: 2200, Loss: 0.2267\n",
      "Step: 2220, Loss: 0.1611\n"
     ]
    },
    {
     "name": "stderr",
     "output_type": "stream",
     "text": [
      "Q_bc updating ......:  46%|████▌     | 2276/5000 [00:09<00:10, 254.06it/s]"
     ]
    },
    {
     "name": "stdout",
     "output_type": "stream",
     "text": [
      "Step: 2240, Loss: 0.2198\n",
      "Step: 2260, Loss: 0.1329\n",
      "Step: 2280, Loss: 0.2133\n"
     ]
    },
    {
     "name": "stderr",
     "output_type": "stream",
     "text": [
      "Q_bc updating ......:  47%|████▋     | 2328/5000 [00:09<00:11, 233.11it/s]"
     ]
    },
    {
     "name": "stdout",
     "output_type": "stream",
     "text": [
      "Step: 2300, Loss: 0.2505\n",
      "Step: 2320, Loss: 0.2189\n",
      "Step: 2340, Loss: 0.2811\n"
     ]
    },
    {
     "name": "stderr",
     "output_type": "stream",
     "text": [
      "Q_bc updating ......:  48%|████▊     | 2405/5000 [00:09<00:10, 244.48it/s]"
     ]
    },
    {
     "name": "stdout",
     "output_type": "stream",
     "text": [
      "Step: 2360, Loss: 0.1565\n",
      "Step: 2380, Loss: 0.2720\n",
      "Step: 2400, Loss: 0.3689\n"
     ]
    },
    {
     "name": "stderr",
     "output_type": "stream",
     "text": [
      "Q_bc updating ......:  49%|████▉     | 2456/5000 [00:10<00:10, 244.47it/s]"
     ]
    },
    {
     "name": "stdout",
     "output_type": "stream",
     "text": [
      "Step: 2420, Loss: 0.1740\n",
      "Step: 2440, Loss: 0.2697\n",
      "Step: 2460, Loss: 0.3131\n"
     ]
    },
    {
     "name": "stderr",
     "output_type": "stream",
     "text": [
      "Q_bc updating ......:  50%|█████     | 2505/5000 [00:10<00:11, 221.20it/s]"
     ]
    },
    {
     "name": "stdout",
     "output_type": "stream",
     "text": [
      "Step: 2480, Loss: 0.2183\n",
      "Step: 2500, Loss: 0.3246\n",
      "Step: 2520, Loss: 0.1906\n"
     ]
    },
    {
     "name": "stderr",
     "output_type": "stream",
     "text": [
      "Q_bc updating ......:  52%|█████▏    | 2575/5000 [00:10<00:10, 225.85it/s]"
     ]
    },
    {
     "name": "stdout",
     "output_type": "stream",
     "text": [
      "Step: 2540, Loss: 0.2872\n",
      "Step: 2560, Loss: 0.3447\n",
      "Step: 2580, Loss: 0.1875\n"
     ]
    },
    {
     "name": "stderr",
     "output_type": "stream",
     "text": [
      "Q_bc updating ......:  52%|█████▏    | 2621/5000 [00:10<00:11, 212.18it/s]"
     ]
    },
    {
     "name": "stdout",
     "output_type": "stream",
     "text": [
      "Step: 2600, Loss: 0.2646\n",
      "Step: 2620, Loss: 0.1711\n",
      "Step: 2640, Loss: 0.2961\n"
     ]
    },
    {
     "name": "stderr",
     "output_type": "stream",
     "text": [
      "Q_bc updating ......:  54%|█████▍    | 2699/5000 [00:11<00:09, 239.61it/s]"
     ]
    },
    {
     "name": "stdout",
     "output_type": "stream",
     "text": [
      "Step: 2660, Loss: 0.2020\n",
      "Step: 2680, Loss: 0.2234\n",
      "Step: 2700, Loss: 0.1789\n"
     ]
    },
    {
     "name": "stderr",
     "output_type": "stream",
     "text": [
      "Q_bc updating ......:  55%|█████▌    | 2756/5000 [00:11<00:08, 253.62it/s]"
     ]
    },
    {
     "name": "stdout",
     "output_type": "stream",
     "text": [
      "Step: 2720, Loss: 0.3858\n",
      "Step: 2740, Loss: 0.2639\n",
      "Step: 2760, Loss: 0.2822\n"
     ]
    },
    {
     "name": "stderr",
     "output_type": "stream",
     "text": [
      "Q_bc updating ......:  56%|█████▌    | 2808/5000 [00:11<00:08, 251.21it/s]"
     ]
    },
    {
     "name": "stdout",
     "output_type": "stream",
     "text": [
      "Step: 2780, Loss: 0.2118\n",
      "Step: 2800, Loss: 0.2934\n",
      "Step: 2820, Loss: 0.3490\n"
     ]
    },
    {
     "name": "stderr",
     "output_type": "stream",
     "text": [
      "Q_bc updating ......:  58%|█████▊    | 2888/5000 [00:11<00:08, 259.42it/s]"
     ]
    },
    {
     "name": "stdout",
     "output_type": "stream",
     "text": [
      "Step: 2840, Loss: 0.1860\n",
      "Step: 2860, Loss: 0.2021\n",
      "Step: 2880, Loss: 0.1794\n"
     ]
    },
    {
     "name": "stderr",
     "output_type": "stream",
     "text": [
      "Q_bc updating ......:  59%|█████▉    | 2940/5000 [00:12<00:08, 252.69it/s]"
     ]
    },
    {
     "name": "stdout",
     "output_type": "stream",
     "text": [
      "Step: 2900, Loss: 0.1799\n",
      "Step: 2920, Loss: 0.3831\n",
      "Step: 2940, Loss: 0.3301\n"
     ]
    },
    {
     "name": "stderr",
     "output_type": "stream",
     "text": [
      "Q_bc updating ......:  60%|█████▉    | 2991/5000 [00:12<00:08, 235.98it/s]"
     ]
    },
    {
     "name": "stdout",
     "output_type": "stream",
     "text": [
      "Step: 2960, Loss: 0.2831\n",
      "Step: 2980, Loss: 0.2451\n",
      "Step: 3000, Loss: 0.2136\n"
     ]
    },
    {
     "name": "stderr",
     "output_type": "stream",
     "text": [
      "Q_bc updating ......:  61%|██████▏   | 3064/5000 [00:12<00:08, 239.21it/s]"
     ]
    },
    {
     "name": "stdout",
     "output_type": "stream",
     "text": [
      "Step: 3020, Loss: 0.1852\n",
      "Step: 3040, Loss: 0.3188\n",
      "Step: 3060, Loss: 0.2214\n"
     ]
    },
    {
     "name": "stderr",
     "output_type": "stream",
     "text": [
      "Q_bc updating ......:  62%|██████▏   | 3110/5000 [00:12<00:08, 215.76it/s]"
     ]
    },
    {
     "name": "stdout",
     "output_type": "stream",
     "text": [
      "Step: 3080, Loss: 0.3054\n",
      "Step: 3100, Loss: 0.2250\n",
      "Step: 3120, Loss: 0.4325\n"
     ]
    },
    {
     "name": "stderr",
     "output_type": "stream",
     "text": [
      "Q_bc updating ......:  64%|██████▎   | 3183/5000 [00:13<00:07, 233.36it/s]"
     ]
    },
    {
     "name": "stdout",
     "output_type": "stream",
     "text": [
      "Step: 3140, Loss: 0.3861\n",
      "Step: 3160, Loss: 0.2323\n",
      "Step: 3180, Loss: 0.3429\n"
     ]
    },
    {
     "name": "stderr",
     "output_type": "stream",
     "text": [
      "Q_bc updating ......:  65%|██████▍   | 3234/5000 [00:13<00:08, 217.40it/s]"
     ]
    },
    {
     "name": "stdout",
     "output_type": "stream",
     "text": [
      "Step: 3200, Loss: 0.2450\n",
      "Step: 3220, Loss: 0.1525\n"
     ]
    },
    {
     "name": "stderr",
     "output_type": "stream",
     "text": [
      "Q_bc updating ......:  66%|██████▌   | 3279/5000 [00:13<00:08, 214.46it/s]"
     ]
    },
    {
     "name": "stdout",
     "output_type": "stream",
     "text": [
      "Step: 3240, Loss: 0.2724\n",
      "Step: 3260, Loss: 0.2408\n",
      "Step: 3280, Loss: 0.1725\n"
     ]
    },
    {
     "name": "stderr",
     "output_type": "stream",
     "text": [
      "Q_bc updating ......:  67%|██████▋   | 3346/5000 [00:13<00:07, 216.89it/s]"
     ]
    },
    {
     "name": "stdout",
     "output_type": "stream",
     "text": [
      "Step: 3300, Loss: 0.2499\n",
      "Step: 3320, Loss: 0.2347\n",
      "Step: 3340, Loss: 0.2469\n"
     ]
    },
    {
     "name": "stderr",
     "output_type": "stream",
     "text": [
      "Q_bc updating ......:  68%|██████▊   | 3395/5000 [00:14<00:07, 228.31it/s]"
     ]
    },
    {
     "name": "stdout",
     "output_type": "stream",
     "text": [
      "Step: 3360, Loss: 0.2631\n",
      "Step: 3380, Loss: 0.2008\n",
      "Step: 3400, Loss: 0.1704\n"
     ]
    },
    {
     "name": "stderr",
     "output_type": "stream",
     "text": [
      "Q_bc updating ......:  69%|██████▉   | 3444/5000 [00:14<00:06, 228.31it/s]"
     ]
    },
    {
     "name": "stdout",
     "output_type": "stream",
     "text": [
      "Step: 3420, Loss: 0.1427\n",
      "Step: 3440, Loss: 0.3482\n",
      "Step: 3460, Loss: 0.1339\n"
     ]
    },
    {
     "name": "stderr",
     "output_type": "stream",
     "text": [
      "Q_bc updating ......:  70%|███████   | 3521/5000 [00:14<00:06, 230.40it/s]"
     ]
    },
    {
     "name": "stdout",
     "output_type": "stream",
     "text": [
      "Step: 3480, Loss: 0.3599\n",
      "Step: 3500, Loss: 0.2116\n",
      "Step: 3520, Loss: 0.4168\n"
     ]
    },
    {
     "name": "stderr",
     "output_type": "stream",
     "text": [
      "Q_bc updating ......:  71%|███████▏  | 3573/5000 [00:14<00:05, 242.27it/s]"
     ]
    },
    {
     "name": "stdout",
     "output_type": "stream",
     "text": [
      "Step: 3540, Loss: 0.2150\n",
      "Step: 3560, Loss: 0.2720\n",
      "Step: 3580, Loss: 0.2021\n"
     ]
    },
    {
     "name": "stderr",
     "output_type": "stream",
     "text": [
      "Q_bc updating ......:  73%|███████▎  | 3652/5000 [00:15<00:05, 246.19it/s]"
     ]
    },
    {
     "name": "stdout",
     "output_type": "stream",
     "text": [
      "Step: 3600, Loss: 0.2033\n",
      "Step: 3620, Loss: 0.2852\n",
      "Step: 3640, Loss: 0.3533\n"
     ]
    },
    {
     "name": "stderr",
     "output_type": "stream",
     "text": [
      "Q_bc updating ......:  74%|███████▍  | 3700/5000 [00:15<00:06, 206.87it/s]"
     ]
    },
    {
     "name": "stdout",
     "output_type": "stream",
     "text": [
      "Step: 3660, Loss: 0.2309\n",
      "Step: 3680, Loss: 0.3443\n"
     ]
    },
    {
     "name": "stderr",
     "output_type": "stream",
     "text": [
      "Q_bc updating ......:  74%|███████▍  | 3722/5000 [00:15<00:06, 196.94it/s]"
     ]
    },
    {
     "name": "stdout",
     "output_type": "stream",
     "text": [
      "Step: 3700, Loss: 0.2527\n",
      "Step: 3720, Loss: 0.1526\n",
      "Step: 3740, Loss: 0.2734\n"
     ]
    },
    {
     "name": "stderr",
     "output_type": "stream",
     "text": [
      "Q_bc updating ......:  76%|███████▌  | 3796/5000 [00:15<00:05, 218.91it/s]"
     ]
    },
    {
     "name": "stdout",
     "output_type": "stream",
     "text": [
      "Step: 3760, Loss: 0.2282\n",
      "Step: 3780, Loss: 0.3654\n",
      "Step: 3800, Loss: 0.2826\n"
     ]
    },
    {
     "name": "stderr",
     "output_type": "stream",
     "text": [
      "Q_bc updating ......:  77%|███████▋  | 3858/5000 [00:16<00:06, 179.15it/s]"
     ]
    },
    {
     "name": "stdout",
     "output_type": "stream",
     "text": [
      "Step: 3820, Loss: 0.5019\n",
      "Step: 3840, Loss: 0.2490\n"
     ]
    },
    {
     "name": "stderr",
     "output_type": "stream",
     "text": [
      "Q_bc updating ......:  78%|███████▊  | 3877/5000 [00:16<00:06, 175.68it/s]"
     ]
    },
    {
     "name": "stdout",
     "output_type": "stream",
     "text": [
      "Step: 3860, Loss: 0.2394\n",
      "Step: 3880, Loss: 0.2420\n"
     ]
    },
    {
     "name": "stderr",
     "output_type": "stream",
     "text": [
      "Q_bc updating ......:  79%|███████▉  | 3945/5000 [00:16<00:05, 209.70it/s]"
     ]
    },
    {
     "name": "stdout",
     "output_type": "stream",
     "text": [
      "Step: 3900, Loss: 0.1740\n",
      "Step: 3920, Loss: 0.1409\n",
      "Step: 3940, Loss: 0.3101\n"
     ]
    },
    {
     "name": "stderr",
     "output_type": "stream",
     "text": [
      "Q_bc updating ......:  80%|███████▉  | 3992/5000 [00:16<00:04, 208.80it/s]"
     ]
    },
    {
     "name": "stdout",
     "output_type": "stream",
     "text": [
      "Step: 3960, Loss: 0.3379\n",
      "Step: 3980, Loss: 0.2265\n",
      "Step: 4000, Loss: 0.3007\n"
     ]
    },
    {
     "name": "stderr",
     "output_type": "stream",
     "text": [
      "Q_bc updating ......:  81%|████████▏ | 4070/5000 [00:17<00:03, 238.26it/s]"
     ]
    },
    {
     "name": "stdout",
     "output_type": "stream",
     "text": [
      "Step: 4020, Loss: 0.2836\n",
      "Step: 4040, Loss: 0.1358\n",
      "Step: 4060, Loss: 0.2539\n"
     ]
    },
    {
     "name": "stderr",
     "output_type": "stream",
     "text": [
      "Q_bc updating ......:  82%|████████▏ | 4119/5000 [00:17<00:03, 227.80it/s]"
     ]
    },
    {
     "name": "stdout",
     "output_type": "stream",
     "text": [
      "Step: 4080, Loss: 0.2935\n",
      "Step: 4100, Loss: 0.2137\n",
      "Step: 4120, Loss: 0.2322\n"
     ]
    },
    {
     "name": "stderr",
     "output_type": "stream",
     "text": [
      "Q_bc updating ......:  83%|████████▎ | 4166/5000 [00:17<00:03, 227.42it/s]"
     ]
    },
    {
     "name": "stdout",
     "output_type": "stream",
     "text": [
      "Step: 4140, Loss: 0.1842\n",
      "Step: 4160, Loss: 0.2322\n",
      "Step: 4180, Loss: 0.3285\n"
     ]
    },
    {
     "name": "stderr",
     "output_type": "stream",
     "text": [
      "Q_bc updating ......:  85%|████████▍ | 4237/5000 [00:18<00:03, 215.55it/s]"
     ]
    },
    {
     "name": "stdout",
     "output_type": "stream",
     "text": [
      "Step: 4200, Loss: 0.3001\n",
      "Step: 4220, Loss: 0.2837\n",
      "Step: 4240, Loss: 0.2506\n"
     ]
    },
    {
     "name": "stderr",
     "output_type": "stream",
     "text": [
      "Q_bc updating ......:  86%|████████▋ | 4315/5000 [00:18<00:02, 238.47it/s]"
     ]
    },
    {
     "name": "stdout",
     "output_type": "stream",
     "text": [
      "Step: 4260, Loss: 0.1440\n",
      "Step: 4280, Loss: 0.2799\n",
      "Step: 4300, Loss: 0.1301\n"
     ]
    },
    {
     "name": "stderr",
     "output_type": "stream",
     "text": [
      "Q_bc updating ......:  87%|████████▋ | 4364/5000 [00:18<00:02, 234.01it/s]"
     ]
    },
    {
     "name": "stdout",
     "output_type": "stream",
     "text": [
      "Step: 4320, Loss: 0.2773\n",
      "Step: 4340, Loss: 0.2656\n",
      "Step: 4360, Loss: 0.3121\n"
     ]
    },
    {
     "name": "stderr",
     "output_type": "stream",
     "text": [
      "Q_bc updating ......:  88%|████████▊ | 4412/5000 [00:18<00:02, 233.06it/s]"
     ]
    },
    {
     "name": "stdout",
     "output_type": "stream",
     "text": [
      "Step: 4380, Loss: 0.2679\n",
      "Step: 4400, Loss: 0.1611\n",
      "Step: 4420, Loss: 0.2293\n"
     ]
    },
    {
     "name": "stderr",
     "output_type": "stream",
     "text": [
      "Q_bc updating ......:  90%|████████▉ | 4488/5000 [00:19<00:02, 243.09it/s]"
     ]
    },
    {
     "name": "stdout",
     "output_type": "stream",
     "text": [
      "Step: 4440, Loss: 0.2332\n",
      "Step: 4460, Loss: 0.2813\n",
      "Step: 4480, Loss: 0.3241\n"
     ]
    },
    {
     "name": "stderr",
     "output_type": "stream",
     "text": [
      "Q_bc updating ......:  91%|█████████ | 4540/5000 [00:19<00:01, 231.30it/s]"
     ]
    },
    {
     "name": "stdout",
     "output_type": "stream",
     "text": [
      "Step: 4500, Loss: 0.1879\n",
      "Step: 4520, Loss: 0.2248\n",
      "Step: 4540, Loss: 0.2356\n"
     ]
    },
    {
     "name": "stderr",
     "output_type": "stream",
     "text": [
      "Q_bc updating ......:  92%|█████████▏| 4588/5000 [00:19<00:01, 231.87it/s]"
     ]
    },
    {
     "name": "stdout",
     "output_type": "stream",
     "text": [
      "Step: 4560, Loss: 0.2097\n",
      "Step: 4580, Loss: 0.1580\n",
      "Step: 4600, Loss: 0.1196\n"
     ]
    },
    {
     "name": "stderr",
     "output_type": "stream",
     "text": [
      "Q_bc updating ......:  93%|█████████▎| 4661/5000 [00:19<00:01, 234.21it/s]"
     ]
    },
    {
     "name": "stdout",
     "output_type": "stream",
     "text": [
      "Step: 4620, Loss: 0.2780\n",
      "Step: 4640, Loss: 0.2522\n",
      "Step: 4660, Loss: 0.2135\n"
     ]
    },
    {
     "name": "stderr",
     "output_type": "stream",
     "text": [
      "Q_bc updating ......:  94%|█████████▍| 4708/5000 [00:20<00:01, 225.26it/s]"
     ]
    },
    {
     "name": "stdout",
     "output_type": "stream",
     "text": [
      "Step: 4680, Loss: 0.1030\n",
      "Step: 4700, Loss: 0.2575\n",
      "Step: 4720, Loss: 0.3302\n"
     ]
    },
    {
     "name": "stderr",
     "output_type": "stream",
     "text": [
      "Q_bc updating ......:  96%|█████████▌| 4785/5000 [00:20<00:00, 238.70it/s]"
     ]
    },
    {
     "name": "stdout",
     "output_type": "stream",
     "text": [
      "Step: 4740, Loss: 0.1909\n",
      "Step: 4760, Loss: 0.1911\n",
      "Step: 4780, Loss: 0.2260\n"
     ]
    },
    {
     "name": "stderr",
     "output_type": "stream",
     "text": [
      "Q_bc updating ......:  97%|█████████▋| 4833/5000 [00:20<00:00, 217.92it/s]"
     ]
    },
    {
     "name": "stdout",
     "output_type": "stream",
     "text": [
      "Step: 4800, Loss: 0.2316\n",
      "Step: 4820, Loss: 0.1601\n",
      "Step: 4840, Loss: 0.1789\n"
     ]
    },
    {
     "name": "stderr",
     "output_type": "stream",
     "text": [
      "Q_bc updating ......:  98%|█████████▊| 4911/5000 [00:20<00:00, 242.60it/s]"
     ]
    },
    {
     "name": "stdout",
     "output_type": "stream",
     "text": [
      "Step: 4860, Loss: 0.2220\n",
      "Step: 4880, Loss: 0.2553\n",
      "Step: 4900, Loss: 0.2112\n"
     ]
    },
    {
     "name": "stderr",
     "output_type": "stream",
     "text": [
      "Q_bc updating ......:  99%|█████████▉| 4962/5000 [00:21<00:00, 243.09it/s]"
     ]
    },
    {
     "name": "stdout",
     "output_type": "stream",
     "text": [
      "Step: 4920, Loss: 0.1744\n",
      "Step: 4940, Loss: 0.2275\n",
      "Step: 4960, Loss: 0.2906\n"
     ]
    },
    {
     "name": "stderr",
     "output_type": "stream",
     "text": [
      "Q_bc updating ......: 100%|██████████| 5000/5000 [00:21<00:00, 234.87it/s]"
     ]
    },
    {
     "name": "stdout",
     "output_type": "stream",
     "text": [
      "Step: 4980, Loss: 0.3263\n",
      "Q function parameters saved in logs\\20241219\\Q_bc.pt\n"
     ]
    },
    {
     "name": "stderr",
     "output_type": "stream",
     "text": [
      "\n"
     ]
    }
   ],
   "source": [
    "# value training \n",
    "value_path = os.path.join(path, 'value.pt')\n",
    "if os.path.exists(value_path):\n",
    "    value.load(value_path)\n",
    "else:\n",
    "    for step in tqdm.tqdm(range(int(v_steps)), desc='value updating ......'): \n",
    "        value_loss = value.update(replay_buffer)\n",
    "        \n",
    "        if step % int(log_freq) == 0:\n",
    "            print(f\"Step: {step}, Loss: {value_loss:.4f}\")\n",
    "            logger.add_scalar('value_loss', value_loss, global_step=(step+1))\n",
    "    value.save(value_path)\n",
    "\n",
    "# Q_bc training\n",
    "Q_bc_path = os.path.join(path, 'Q_bc.pt')\n",
    "if os.path.exists(Q_bc_path):\n",
    "    Q_bc.load(Q_bc_path)\n",
    "else:\n",
    "    for step in tqdm.tqdm(range(int(q_bc_steps)), desc='Q_bc updating ......'):\n",
    "        Q_bc_loss = Q_bc.update(replay_buffer, pi=None)\n",
    "        if step % int(log_freq) == 0:\n",
    "            print(f\"Step: {step}, Loss: {Q_bc_loss:.4f}\")\n",
    "            logger.add_scalar('Q_bc_loss', Q_bc_loss, global_step=(step+1))\n",
    "    Q_bc.save(Q_bc_path)\n",
    "\n",
    "if is_offpolicy_update:\n",
    "    Q_pi.load(Q_bc_path)\n",
    "\n"
   ]
  },
  {
   "cell_type": "code",
   "execution_count": 9,
   "metadata": {},
   "outputs": [
    {
     "name": "stderr",
     "output_type": "stream",
     "text": [
      "bc updating ......:   0%|          | 0/500 [00:00<?, ?it/s]\n"
     ]
    },
    {
     "ename": "AttributeError",
     "evalue": "'str' object has no attribute 'reset'",
     "output_type": "error",
     "traceback": [
      "\u001b[1;31m---------------------------------------------------------------------------\u001b[0m",
      "\u001b[1;31mAttributeError\u001b[0m                            Traceback (most recent call last)",
      "Cell \u001b[1;32mIn[9], line 12\u001b[0m\n\u001b[0;32m     10\u001b[0m bc_loss \u001b[38;5;241m=\u001b[39m bc\u001b[38;5;241m.\u001b[39mupdate(replay_buffer)\n\u001b[0;32m     11\u001b[0m \u001b[38;5;28;01mif\u001b[39;00m step \u001b[38;5;241m%\u001b[39m \u001b[38;5;28mint\u001b[39m(log_freq) \u001b[38;5;241m==\u001b[39m \u001b[38;5;241m0\u001b[39m:\n\u001b[1;32m---> 12\u001b[0m     current_bc_score \u001b[38;5;241m=\u001b[39m bc\u001b[38;5;241m.\u001b[39moffline_evaluate(env_name, seed, mean, std)\n\u001b[0;32m     13\u001b[0m     \u001b[38;5;28;01mif\u001b[39;00m current_bc_score \u001b[38;5;241m>\u001b[39m best_bc_score:\n\u001b[0;32m     14\u001b[0m         best_bc_score \u001b[38;5;241m=\u001b[39m current_bc_score\n",
      "File \u001b[1;32me:\\PythonProjects\\BPPO_custom\\bppo.py:86\u001b[0m, in \u001b[0;36mBehaviorCloning.offline_evaluate\u001b[1;34m(self, env, seed, mean, std, eval_episodes)\u001b[0m\n\u001b[0;32m     84\u001b[0m total_reward \u001b[38;5;241m=\u001b[39m \u001b[38;5;241m0\u001b[39m\n\u001b[0;32m     85\u001b[0m \u001b[38;5;28;01mfor\u001b[39;00m _ \u001b[38;5;129;01min\u001b[39;00m \u001b[38;5;28mrange\u001b[39m(eval_episodes):\n\u001b[1;32m---> 86\u001b[0m     s, done \u001b[38;5;241m=\u001b[39m env\u001b[38;5;241m.\u001b[39mreset()[\u001b[38;5;241m0\u001b[39m], \u001b[38;5;28;01mFalse\u001b[39;00m\n\u001b[0;32m     87\u001b[0m     \u001b[38;5;66;03m#print(\"!!!!!s:\", type(s), s.shape, type(mean), mean.shape, type(std), std.shape)\u001b[39;00m\n\u001b[0;32m     88\u001b[0m     \u001b[38;5;28;01mwhile\u001b[39;00m \u001b[38;5;129;01mnot\u001b[39;00m done:\n",
      "\u001b[1;31mAttributeError\u001b[0m: 'str' object has no attribute 'reset'"
     ]
    }
   ],
   "source": [
    "mean, std = 0., 1.\n",
    "\n",
    "# bc training\n",
    "best_bc_path = os.path.join(path, 'bc_best.pt')\n",
    "if os.path.exists(best_bc_path):\n",
    "    bc.load(best_bc_path)\n",
    "else:\n",
    "    best_bc_score = 0\n",
    "    for step in tqdm.tqdm(range(int(bc_steps)), desc='bc updating ......'):\n",
    "        bc_loss = bc.update(replay_buffer)\n",
    "        if step % int(log_freq) == 0:\n",
    "            current_bc_score = bc.offline_evaluate(env_name, seed, mean, std)\n",
    "            if current_bc_score > best_bc_score:\n",
    "                best_bc_score = current_bc_score\n",
    "                bc.save(best_bc_path)\n",
    "                np.savetxt(os.path.join(path, 'best_bc.csv'), [best_bc_score], fmt='%f', delimiter=',')\n",
    "            print(f\"Step: {step}, Loss: {bc_loss:.4f}, Score: {current_bc_score:.4f}\")\n",
    "            logger.add_scalar('bc_loss', bc_loss, global_step=(step+1))\n",
    "            logger.add_scalar('bc_score', current_bc_score, global_step=(step+1))\n",
    "    bc.save(os.path.join(path, 'bc_last.pt'))\n",
    "    bc.load(best_bc_path)\n",
    "\n"
   ]
  },
  {
   "cell_type": "code",
   "execution_count": null,
   "metadata": {},
   "outputs": [],
   "source": [
    "# bppo training\n",
    "bppo.load(best_bc_path)\n",
    "best_bppo_path = os.path.join(path, current_time, 'bppo_best.pt')\n",
    "Q = Q_bc # If advantage replacement, then Q_{\\pi k}=Q_{\\pi\\beta}\n",
    "best_bppo_score = bppo.offline_evaluate(env_name, seed, mean, std)\n",
    "print('best_bppo_score:',best_bppo_score,'-------------------------')\n",
    "for step in tqdm(range(int(bppo_steps)), desc='bppo updating ......'):\n",
    "    if step > 200:\n",
    "        is_clip_decay = False\n",
    "        is_bppo_lr_decay = False\n",
    "    bppo_loss = bppo.update(replay_buffer, Q, value, is_clip_decay, is_bppo_lr_decay)\n",
    "    current_bppo_score = bppo.offline_evaluate(env_name, seed, mean, std) # J_{\\pi k}\n",
    "    if current_bppo_score > best_bppo_score:\n",
    "        best_bppo_score = current_bppo_score\n",
    "        print('best_bppo_score:',best_bppo_score,'-------------------------')\n",
    "        bppo.save(best_bppo_path)\n",
    "        np.savetxt(os.path.join(path, current_time, 'best_bppo.csv'), [best_bppo_score], fmt='%f', delimiter=',')\n",
    "        if is_update_old_policy:\n",
    "            bppo.set_old_policy() # Set the old policy to the current policy\n",
    "    if is_offpolicy_update: # If not using advantage replacement, calculate Q_{\\pi k} by Q-learning\n",
    "        for _ in tqdm(range(int(q_pi_steps)), desc='Q_pi updating ......'): \n",
    "            Q_pi_loss = Q_pi.update(replay_buffer, bppo)\n",
    "        Q = Q_pi\n",
    "    print(f\"Step: {step}, Loss: {bppo_loss:.4f}, Score: {current_bppo_score:.4f}\")\n",
    "    logger.add_scalar('bppo_loss', bppo_loss, global_step=(step+1))\n",
    "    logger.add_scalar('bppo_score', current_bppo_score, global_step=(step+1))\n",
    "\n",
    "logger.close()"
   ]
  },
  {
   "cell_type": "code",
   "execution_count": null,
   "metadata": {},
   "outputs": [],
   "source": []
  }
 ],
 "metadata": {
  "kernelspec": {
   "display_name": "env_py312",
   "language": "python",
   "name": "python3"
  },
  "language_info": {
   "codemirror_mode": {
    "name": "ipython",
    "version": 3
   },
   "file_extension": ".py",
   "mimetype": "text/x-python",
   "name": "python",
   "nbconvert_exporter": "python",
   "pygments_lexer": "ipython3",
   "version": "3.12.5"
  }
 },
 "nbformat": 4,
 "nbformat_minor": 2
}
